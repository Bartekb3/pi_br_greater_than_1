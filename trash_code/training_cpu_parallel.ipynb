{
 "cells": [
  {
   "cell_type": "markdown",
   "id": "27806998",
   "metadata": {},
   "source": [
    "UWAGA -W celu lokalnych testów warto zrobić tymczasowy katalog z jednym datasetem, na podstawie którego będziemy porównywać czas. "
   ]
  },
  {
   "cell_type": "code",
   "execution_count": 1,
   "id": "ef47a248",
   "metadata": {},
   "outputs": [],
   "source": [
    "# path_to_datasets = './test_data/small/'\n",
    "path_to_datasets = '../test_data/'"
   ]
  },
  {
   "cell_type": "code",
   "execution_count": 2,
   "id": "952cbbce",
   "metadata": {},
   "outputs": [
    {
     "name": "stdout",
     "output_type": "stream",
     "text": [
      "Czy GPU działa? True\n",
      "GPU: b'NVIDIA GeForce RTX 4050 Laptop GPU'\n"
     ]
    }
   ],
   "source": [
    "import cupy as cp\n",
    "\n",
    "print(\"Czy GPU działa?\", cp.cuda.is_available())\n",
    "print(\"GPU:\", cp.cuda.runtime.getDeviceProperties(0)['name'])"
   ]
  },
  {
   "cell_type": "markdown",
   "id": "b07e676b",
   "metadata": {
    "id": "OYsfE7F4XLpL"
   },
   "source": [
    "# Training on cpu"
   ]
  },
  {
   "cell_type": "code",
   "execution_count": 9,
   "id": "ec6456c0",
   "metadata": {
    "id": "CcdwAEZiXR3W"
   },
   "outputs": [],
   "source": [
    "from sklearn.preprocessing import StandardScaler\n",
    "import pandas as pd\n",
    "import numpy as np\n",
    "from sklearn.ensemble import RandomForestRegressor\n",
    "from sklearn.model_selection import RepeatedKFold\n",
    "import os\n",
    "from sklearn.metrics import mean_squared_error\n",
    "import time\n",
    "from datetime import timedelta\n",
    "\n",
    "from joblib import Parallel, delayed\n",
    "from sklearn.base import clone\n",
    "\n"
   ]
  },
  {
   "cell_type": "code",
   "execution_count": 10,
   "id": "4a0cb0e8",
   "metadata": {
    "id": "e63l5DYpXRoQ"
   },
   "outputs": [],
   "source": [
    "rf_100 =    ('RF', RandomForestRegressor(random_state=123, n_jobs=-1, n_estimators=100))\n",
    "rf_200 =    ('RF[200]', RandomForestRegressor(random_state=123, n_jobs=-1,  n_estimators=200))\n",
    "rf_500 =    ('RF[500]', RandomForestRegressor(random_state=123, n_jobs=-1, n_estimators=500))\n",
    "rf_md_10 =  ('RF[md10]', RandomForestRegressor(random_state=123, n_jobs=-1, max_depth=10))\n",
    "rf_md_15 =  ('RF[md15]', RandomForestRegressor(random_state=123, n_jobs=-1, max_depth=15))\n",
    "rf_md_20 =  ('RF[md20]', RandomForestRegressor(random_state=123, n_jobs=-1, max_depth=20))\n",
    "rf_md_25 =  ('RF[md25]', RandomForestRegressor(random_state=123, n_jobs=-1, max_depth=25))\n",
    "rf_mss_3 =  ('RF[mss3]', RandomForestRegressor(random_state=123, n_jobs=-1, min_samples_split=3))\n",
    "rf_mss_4 =  ('RF[mss4]', RandomForestRegressor(random_state=123, n_jobs=-1, min_samples_split=4))\n",
    "rf_mss_6 =  ('RF[mss6]', RandomForestRegressor(random_state=123, n_jobs=-1, min_samples_split=6))\n",
    "rf_mss_8 =  ('RF[mss8]', RandomForestRegressor(random_state=123, n_jobs=-1, min_samples_split=8))\n",
    "rf_msl_2 =  ('RF[msl2]', RandomForestRegressor(random_state=123, n_jobs=-1, min_samples_leaf=2))\n",
    "rf_msl_3 =  ('RF[msl3]', RandomForestRegressor(random_state=123, n_jobs=-1, min_samples_leaf=3))\n",
    "rf_msl_4 =  ('RF[msl4]', RandomForestRegressor(random_state=123, n_jobs=-1, min_samples_leaf=4))\n",
    "rf_msl_5 =  ('RF[msl5]', RandomForestRegressor(random_state=123, n_jobs=-1, min_samples_leaf=5))\n",
    "rf_mf_log = ('RF[mfLog2]', RandomForestRegressor(random_state=123, n_jobs=-1, max_features=\"log2\"))\n",
    "rf_mf_all = ('RF[mfAll]', RandomForestRegressor(random_state=123, n_jobs=-1, max_features=None))"
   ]
  },
  {
   "cell_type": "code",
   "execution_count": 11,
   "id": "0e88a224",
   "metadata": {
    "id": "UpQdZYRPXVaU"
   },
   "outputs": [],
   "source": [
    "max_samples = [0.2, 0.6, 0.8, 1, 1.2, 2, 3, 4, 5]\n",
    "forests = [rf_100, rf_200, rf_500, rf_md_10, rf_md_15, rf_md_20, rf_md_25, rf_mss_3, rf_mss_4, rf_mss_6, rf_mss_8,\n",
    "        rf_msl_2, rf_msl_3, rf_msl_4, rf_msl_5, rf_mf_log, rf_mf_all]"
   ]
  },
  {
   "cell_type": "code",
   "execution_count": 12,
   "id": "d8cb1eec",
   "metadata": {
    "id": "afBrso1IXeZv"
   },
   "outputs": [],
   "source": [
    "def make_X_train(X_tra, y_tra, max_sample):\n",
    "    if max_sample <= 1:\n",
    "        return X_tra, y_tra\n",
    "    elif 1 < max_sample < 2:\n",
    "        return np.tile(X_tra, (2, 1)), np.tile(y_tra, 2)\n",
    "    else:\n",
    "        return np.tile(X_tra, (max_sample, 1)), np.tile(y_tra, max_sample)"
   ]
  },
  {
   "cell_type": "code",
   "execution_count": 13,
   "id": "2af59eef",
   "metadata": {},
   "outputs": [
    {
     "name": "stdout",
     "output_type": "stream",
     "text": [
      "Trening modelu: RF, max_samples=0.2\n"
     ]
    },
    {
     "ename": "NameError",
     "evalue": "name 'cvsplit' is not defined",
     "output_type": "error",
     "traceback": [
      "\u001b[0;31m---------------------------------------------------------------------------\u001b[0m",
      "\u001b[0;31mNameError\u001b[0m                                 Traceback (most recent call last)",
      "Cell \u001b[0;32mIn[13], line 36\u001b[0m\n\u001b[1;32m     32\u001b[0m \u001b[38;5;28;01mfor\u001b[39;00m rfr \u001b[38;5;129;01min\u001b[39;00m forests:\n\u001b[1;32m     33\u001b[0m     \u001b[38;5;28mprint\u001b[39m(\u001b[38;5;124mf\u001b[39m\u001b[38;5;124m\"\u001b[39m\u001b[38;5;124mTrening modelu: \u001b[39m\u001b[38;5;132;01m{\u001b[39;00mrfr[\u001b[38;5;241m0\u001b[39m]\u001b[38;5;132;01m}\u001b[39;00m\u001b[38;5;124m, max_samples=\u001b[39m\u001b[38;5;132;01m{\u001b[39;00mms\u001b[38;5;132;01m}\u001b[39;00m\u001b[38;5;124m\"\u001b[39m)\n\u001b[1;32m     34\u001b[0m     fold_results \u001b[38;5;241m=\u001b[39m Parallel(n_jobs\u001b[38;5;241m=\u001b[39m\u001b[38;5;241m-\u001b[39m\u001b[38;5;241m1\u001b[39m)(\n\u001b[1;32m     35\u001b[0m         delayed(run_single_fold)(rfr, ms, train_idx, test_idx, fold_idx)\n\u001b[0;32m---> 36\u001b[0m         \u001b[38;5;28;01mfor\u001b[39;00m fold_idx, (train_idx, test_idx) \u001b[38;5;129;01min\u001b[39;00m \u001b[38;5;28menumerate\u001b[39m(\u001b[43mcvsplit\u001b[49m\u001b[38;5;241m.\u001b[39msplit(X, y), \u001b[38;5;241m1\u001b[39m)\n\u001b[1;32m     37\u001b[0m     )\n\u001b[1;32m     38\u001b[0m     results\u001b[38;5;241m.\u001b[39mextend(fold_results)\n",
      "\u001b[0;31mNameError\u001b[0m: name 'cvsplit' is not defined"
     ]
    }
   ],
   "source": [
    "from joblib import Parallel, delayed\n",
    "from sklearn.base import clone\n",
    "\n",
    "def run_single_fold(rfr, ms, train_index, test_index, fold_idx):\n",
    "    start_time = time.time()\n",
    "\n",
    "    X_train, X_test = X[train_index], X[test_index]\n",
    "    y_train, y_test = y[train_index], y[test_index]\n",
    "\n",
    "    X_tr, y_tr = make_X_train(X_train, y_train, ms)\n",
    "\n",
    "    model = clone(rfr[1])\n",
    "    model.max_samples = None if ms >= 1 and ms != 1.2 else (0.6 if ms == 1.2 else ms)\n",
    "    model.fit(X_tr, y_tr)\n",
    "\n",
    "    y_hat = model.predict(X_test)\n",
    "    mse = mean_squared_error(y_test, y_hat)\n",
    "\n",
    "    end_time = time.time()\n",
    "    elapsed_time = timedelta(seconds=end_time - start_time)\n",
    "\n",
    "    return {\n",
    "        'model': rfr[0],\n",
    "        'max_samples': ms,\n",
    "        'fold': fold_idx,\n",
    "        'mse': mse,\n",
    "        'elapsed_time': elapsed_time\n",
    "    }\n",
    "\n",
    "# Główna pętla równoległa\n",
    "for ms in max_samples:\n",
    "    for rfr in forests:\n",
    "        print(f\"Trening modelu: {rfr[0]}, max_samples={ms}\")\n",
    "        fold_results = Parallel(n_jobs=-1)(\n",
    "            delayed(run_single_fold)(rfr, ms, train_idx, test_idx, fold_idx)\n",
    "            for fold_idx, (train_idx, test_idx) in enumerate(cvsplit.split(X, y), 1)\n",
    "        )\n",
    "        results.extend(fold_results)"
   ]
  },
  {
   "cell_type": "code",
   "execution_count": null,
   "id": "795c9a43",
   "metadata": {},
   "outputs": [],
   "source": [
    "# Zapis wyników na końcu\n",
    "wyniki = pd.DataFrame(results)\n",
    "wyniki.to_csv('wyniki_bb.csv', index=False)\n",
    "print(\"Wyniki zapisane.\")"
   ]
  }
 ],
 "metadata": {
  "kernelspec": {
   "display_name": "rapids_env",
   "language": "python",
   "name": "python3"
  },
  "language_info": {
   "codemirror_mode": {
    "name": "ipython",
    "version": 3
   },
   "file_extension": ".py",
   "mimetype": "text/x-python",
   "name": "python",
   "nbconvert_exporter": "python",
   "pygments_lexer": "ipython3",
   "version": "3.10.16"
  }
 },
 "nbformat": 4,
 "nbformat_minor": 5
}
