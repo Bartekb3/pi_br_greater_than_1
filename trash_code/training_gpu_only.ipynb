{
  "cells": [
    {
      "cell_type": "markdown",
      "metadata": {},
      "source": [
        "UWAGA - poniżej również kod do testów na cpu. W celu lokalnych testów warto zrobić tymczasowy katalog z jednym datasetem, na podstawie którego będziemy porównywać czas. "
      ]
    },
    {
      "cell_type": "code",
      "execution_count": 22,
      "metadata": {},
      "outputs": [],
      "source": [
        "# path_to_datasets = './test_data/small/'\n",
        "path_to_datasets = '../test_data/'"
      ]
    },
    {
      "cell_type": "code",
      "execution_count": 31,
      "metadata": {},
      "outputs": [
        {
          "name": "stdout",
          "output_type": "stream",
          "text": [
            "Czy GPU działa? True\n",
            "GPU: b'NVIDIA GeForce RTX 4050 Laptop GPU'\n"
          ]
        }
      ],
      "source": [
        "import cupy as cp\n",
        "\n",
        "print(\"Czy GPU działa?\", cp.cuda.is_available())\n",
        "print(\"GPU:\", cp.cuda.runtime.getDeviceProperties(0)['name'])"
      ]
    },
    {
      "cell_type": "markdown",
      "metadata": {
        "id": "xs4FfJVwRGmA"
      },
      "source": [
        "# Training on gpu"
      ]
    },
    {
      "cell_type": "markdown",
      "metadata": {
        "id": "oo3TfkQcRVJ6"
      },
      "source": [
        "UWAGA - możliwy tylko jak macie kartę zgodną z [CUDA](https://developer.nvidia.com/cuda-gpus). Później trzeba pobrać odpowiednie biblioteki zgodne z wersją cuda np. dla 11.2\n",
        "\n",
        "```bash\n",
        "pip install cupy-cuda112\n",
        "pip install cuml-cu11\n",
        "```\n",
        "teoretycznie działa na google colabie, lokalnie idk, w razie problemów warto promptować"
      ]
    },
    {
      "cell_type": "code",
      "execution_count": 24,
      "metadata": {
        "id": "sQ5QCqpDJ3JV"
      },
      "outputs": [],
      "source": [
        "import os\n",
        "import pandas as pd\n",
        "import numpy as np\n",
        "import cupy as cp\n",
        "from cuml.preprocessing import StandardScaler\n",
        "from cuml.ensemble import RandomForestRegressor\n",
        "from cuml.model_selection import train_test_split\n",
        "from cuml.metrics import mean_squared_error\n",
        "import time\n",
        "from datetime import timedelta"
      ]
    },
    {
      "cell_type": "code",
      "execution_count": 25,
      "metadata": {
        "colab": {
          "base_uri": "https://localhost:8080/"
        },
        "id": "gdHfpCOpJ5m5",
        "outputId": "21931814-6709-40e1-a70b-37970bb75c58"
      },
      "outputs": [
        {
          "name": "stderr",
          "output_type": "stream",
          "text": [
            "/home/bartekb/miniconda3/envs/rapids_env/lib/python3.10/site-packages/cuml/internals/api_decorators.py:344: UserWarning: For reproducible results in Random Forest Classifier or for almost reproducible results in Random Forest Regressor, n_streams=1 is recommended. If n_streams is > 1, results may vary due to stream/thread timing differences, even when random_state is set\n",
            "  return func(**kwargs)\n"
          ]
        }
      ],
      "source": [
        "rf_100 =    ('RF', RandomForestRegressor(random_state=123, n_estimators=100))\n",
        "rf_200 =    ('RF[200]', RandomForestRegressor(random_state=123, n_estimators=200))\n",
        "rf_500 =    ('RF[500]', RandomForestRegressor(random_state=123, n_estimators=500))\n",
        "rf_md_10 =  ('RF[md10]', RandomForestRegressor(random_state=123, max_depth=10))\n",
        "rf_md_15 =  ('RF[md15]', RandomForestRegressor(random_state=123, max_depth=15))\n",
        "rf_md_20 =  ('RF[md20]', RandomForestRegressor(random_state=123, max_depth=20))\n",
        "rf_md_25 =  ('RF[md25]', RandomForestRegressor(random_state=123, max_depth=25))\n",
        "rf_mss_3 =  ('RF[mss3]', RandomForestRegressor(random_state=123, min_samples_split=3))\n",
        "rf_mss_4 =  ('RF[mss4]', RandomForestRegressor(random_state=123, min_samples_split=4))\n",
        "rf_mss_6 =  ('RF[mss6]', RandomForestRegressor(random_state=123, min_samples_split=6))\n",
        "rf_mss_8 =  ('RF[mss8]', RandomForestRegressor(random_state=123, min_samples_split=8))\n",
        "rf_msl_2 =  ('RF[msl2]', RandomForestRegressor(random_state=123, min_samples_leaf=2))\n",
        "rf_msl_3 =  ('RF[msl3]', RandomForestRegressor(random_state=123, min_samples_leaf=3))\n",
        "rf_msl_4 =  ('RF[msl4]', RandomForestRegressor(random_state=123, min_samples_leaf=4))\n",
        "rf_msl_5 =  ('RF[msl5]', RandomForestRegressor(random_state=123, min_samples_leaf=5))\n",
        "rf_mf_log = ('RF[mfLog2]', RandomForestRegressor(random_state=123, max_features=0.301)) # log2 approximation\n",
        "rf_mf_all = ('RF[mfAll]', RandomForestRegressor(random_state=123, max_features=1.0))"
      ]
    },
    {
      "cell_type": "code",
      "execution_count": 26,
      "metadata": {
        "id": "n1OOgQmaJ8Al"
      },
      "outputs": [],
      "source": [
        "max_samples = [0.2, 0.6, 0.8, 1, 1.2, 2, 3, 4, 5]\n",
        "forests = [rf_100, rf_200, rf_500, rf_md_10, rf_md_15, rf_md_20, rf_md_25, rf_mss_3, rf_mss_4, rf_mss_6, rf_mss_8,\n",
        "        rf_msl_2, rf_msl_3, rf_msl_4, rf_msl_5, rf_mf_log, rf_mf_all]"
      ]
    },
    {
      "cell_type": "code",
      "execution_count": 27,
      "metadata": {
        "id": "zFukIs1eKCW4"
      },
      "outputs": [],
      "source": [
        "# Function to duplicate data for bootstrap rates > 1\n",
        "def make_X_train(X_tra, y_tra, max_sample):\n",
        "    if max_sample <= 1:\n",
        "        return X_tra, y_tra\n",
        "    elif 1 < max_sample < 2:\n",
        "        # For GPU arrays, we need to use appropriate concatenation\n",
        "        X_dup = cp.concatenate([X_tra, X_tra], axis=0)\n",
        "        y_dup = cp.concatenate([y_tra, y_tra], axis=0)\n",
        "        return X_dup, y_dup\n",
        "    else:\n",
        "        # Duplicate data max_sample times\n",
        "        repeats = int(max_sample)\n",
        "        X_list = [X_tra] * repeats\n",
        "        y_list = [y_tra] * repeats\n",
        "        X_dup = cp.concatenate(X_list, axis=0)\n",
        "        y_dup = cp.concatenate(y_list, axis=0)\n",
        "        return X_dup, y_dup"
      ]
    },
    {
      "cell_type": "code",
      "execution_count": 28,
      "metadata": {
        "colab": {
          "base_uri": "https://localhost:8080/",
          "height": 206
        },
        "id": "IzDp2n2UK4Ei",
        "outputId": "9a9c2000-fca5-40c5-ce53-b17172ba16cf"
      },
      "outputs": [
        {
          "data": {
            "text/html": [
              "<div>\n",
              "<style scoped>\n",
              "    .dataframe tbody tr th:only-of-type {\n",
              "        vertical-align: middle;\n",
              "    }\n",
              "\n",
              "    .dataframe tbody tr th {\n",
              "        vertical-align: top;\n",
              "    }\n",
              "\n",
              "    .dataframe thead th {\n",
              "        text-align: right;\n",
              "    }\n",
              "</style>\n",
              "<table border=\"1\" class=\"dataframe\">\n",
              "  <thead>\n",
              "    <tr style=\"text-align: right;\">\n",
              "      <th></th>\n",
              "      <th>Length</th>\n",
              "      <th>Diameter</th>\n",
              "      <th>Height</th>\n",
              "      <th>Whole_weight</th>\n",
              "      <th>Shucked_weight</th>\n",
              "      <th>Viscera_weight</th>\n",
              "      <th>Shell_weight</th>\n",
              "      <th>Sex_F</th>\n",
              "      <th>Sex_I</th>\n",
              "      <th>Sex_M</th>\n",
              "      <th>Rings</th>\n",
              "    </tr>\n",
              "  </thead>\n",
              "  <tbody>\n",
              "    <tr>\n",
              "      <th>0</th>\n",
              "      <td>-0.574558</td>\n",
              "      <td>-0.432149</td>\n",
              "      <td>-1.064424</td>\n",
              "      <td>-0.641898</td>\n",
              "      <td>-0.607685</td>\n",
              "      <td>-0.726212</td>\n",
              "      <td>-0.638217</td>\n",
              "      <td>-0.674834</td>\n",
              "      <td>-0.688018</td>\n",
              "      <td>1.316677</td>\n",
              "      <td>15</td>\n",
              "    </tr>\n",
              "    <tr>\n",
              "      <th>1</th>\n",
              "      <td>-1.448986</td>\n",
              "      <td>-1.439929</td>\n",
              "      <td>-1.183978</td>\n",
              "      <td>-1.230277</td>\n",
              "      <td>-1.170910</td>\n",
              "      <td>-1.205221</td>\n",
              "      <td>-1.212987</td>\n",
              "      <td>-0.674834</td>\n",
              "      <td>-0.688018</td>\n",
              "      <td>1.316677</td>\n",
              "      <td>7</td>\n",
              "    </tr>\n",
              "    <tr>\n",
              "      <th>2</th>\n",
              "      <td>0.050033</td>\n",
              "      <td>0.122130</td>\n",
              "      <td>-0.107991</td>\n",
              "      <td>-0.309469</td>\n",
              "      <td>-0.463500</td>\n",
              "      <td>-0.356690</td>\n",
              "      <td>-0.207139</td>\n",
              "      <td>1.481846</td>\n",
              "      <td>-0.688018</td>\n",
              "      <td>-0.759488</td>\n",
              "      <td>9</td>\n",
              "    </tr>\n",
              "    <tr>\n",
              "      <th>3</th>\n",
              "      <td>-0.699476</td>\n",
              "      <td>-0.432149</td>\n",
              "      <td>-0.347099</td>\n",
              "      <td>-0.637819</td>\n",
              "      <td>-0.648238</td>\n",
              "      <td>-0.607600</td>\n",
              "      <td>-0.602294</td>\n",
              "      <td>-0.674834</td>\n",
              "      <td>-0.688018</td>\n",
              "      <td>1.316677</td>\n",
              "      <td>10</td>\n",
              "    </tr>\n",
              "    <tr>\n",
              "      <th>4</th>\n",
              "      <td>-1.615544</td>\n",
              "      <td>-1.540707</td>\n",
              "      <td>-1.423087</td>\n",
              "      <td>-1.272086</td>\n",
              "      <td>-1.215968</td>\n",
              "      <td>-1.287337</td>\n",
              "      <td>-1.320757</td>\n",
              "      <td>-0.674834</td>\n",
              "      <td>1.453451</td>\n",
              "      <td>-0.759488</td>\n",
              "      <td>7</td>\n",
              "    </tr>\n",
              "  </tbody>\n",
              "</table>\n",
              "</div>"
            ],
            "text/plain": [
              "     Length  Diameter    Height  Whole_weight  Shucked_weight  Viscera_weight  \\\n",
              "0 -0.574558 -0.432149 -1.064424     -0.641898       -0.607685       -0.726212   \n",
              "1 -1.448986 -1.439929 -1.183978     -1.230277       -1.170910       -1.205221   \n",
              "2  0.050033  0.122130 -0.107991     -0.309469       -0.463500       -0.356690   \n",
              "3 -0.699476 -0.432149 -0.347099     -0.637819       -0.648238       -0.607600   \n",
              "4 -1.615544 -1.540707 -1.423087     -1.272086       -1.215968       -1.287337   \n",
              "\n",
              "   Shell_weight     Sex_F     Sex_I     Sex_M  Rings  \n",
              "0     -0.638217 -0.674834 -0.688018  1.316677     15  \n",
              "1     -1.212987 -0.674834 -0.688018  1.316677      7  \n",
              "2     -0.207139  1.481846 -0.688018 -0.759488      9  \n",
              "3     -0.602294 -0.674834 -0.688018  1.316677     10  \n",
              "4     -1.320757 -0.674834  1.453451 -0.759488      7  "
            ]
          },
          "execution_count": 28,
          "metadata": {},
          "output_type": "execute_result"
        }
      ],
      "source": [
        "\n",
        "dataset_paths = []\n",
        "for filename in os.listdir(path_to_datasets):\n",
        "    full_path = os.path.join(path_to_datasets, filename)\n",
        "    dataset_paths.append(full_path)\n",
        "\n",
        "results = {'dataset': [],\n",
        "           'bootstrap_rate': [],\n",
        "           'rf': [],\n",
        "           'cv_mse_scores': [],\n",
        "           'mean_mse': [],\n",
        "           'std_mse': []}\n",
        "\n",
        "standard_scaler = StandardScaler()\n",
        "\n",
        "n_splits = 2  # Original number of splits in KFold\n",
        "n_repeats = 200\n",
        "test_size = 1/n_splits  # 1/2 = 0.5 for test set in train_test_split\n",
        "total_datasets = len(dataset_paths)\n",
        "total_ms = len(max_samples)\n",
        "total_forests = len(forests)\n",
        "total_folds = n_splits * n_repeats\n",
        "\n",
        "pd.read_csv(dataset_paths[0]).head()"
      ]
    },
    {
      "cell_type": "code",
      "execution_count": null,
      "metadata": {
        "colab": {
          "base_uri": "https://localhost:8080/",
          "height": 1000
        },
        "id": "g3YBZIKHP9Rt",
        "outputId": "f7f65ed0-bbd2-482f-9ded-7f59899ce142"
      },
      "outputs": [
        {
          "name": "stdout",
          "output_type": "stream",
          "text": [
            "Starting GPU-accelerated training with 1 datasets, 9 bootstrap rates, 17 forest configurations, and 400 CV folds\n",
            "\n",
            "Processing dataset 1/1: Abalone_1_preprocessed.csv\n"
          ]
        },
        {
          "name": "stdout",
          "output_type": "stream",
          "text": [
            "  Bootstrap rate 1/9: 0.2\n",
            "    Forest model 1/17: RF\n",
            "      Processing fold 10/400\n",
            "      Processing fold 20/400\n"
          ]
        },
        {
          "ename": "KeyboardInterrupt",
          "evalue": "",
          "output_type": "error",
          "traceback": [
            "\u001b[0;31m---------------------------------------------------------------------------\u001b[0m",
            "\u001b[0;31mKeyboardInterrupt\u001b[0m                         Traceback (most recent call last)",
            "Cell \u001b[0;32mIn[20], line 57\u001b[0m\n\u001b[1;32m     54\u001b[0m rfr[\u001b[38;5;241m1\u001b[39m]\u001b[38;5;241m.\u001b[39mmax_samples \u001b[38;5;241m=\u001b[39m max_samples_value\n\u001b[1;32m     56\u001b[0m \u001b[38;5;66;03m# Fit the model\u001b[39;00m\n\u001b[0;32m---> 57\u001b[0m \u001b[43mrfr\u001b[49m\u001b[43m[\u001b[49m\u001b[38;5;241;43m1\u001b[39;49m\u001b[43m]\u001b[49m\u001b[38;5;241;43m.\u001b[39;49m\u001b[43mfit\u001b[49m\u001b[43m(\u001b[49m\u001b[43mX_tr\u001b[49m\u001b[43m,\u001b[49m\u001b[43m \u001b[49m\u001b[43my_tr\u001b[49m\u001b[43m)\u001b[49m\n\u001b[1;32m     59\u001b[0m \u001b[38;5;66;03m# Predict and evaluate\u001b[39;00m\n\u001b[1;32m     60\u001b[0m y_hat \u001b[38;5;241m=\u001b[39m rfr[\u001b[38;5;241m1\u001b[39m]\u001b[38;5;241m.\u001b[39mpredict(X_test)\n",
            "File \u001b[0;32m~/miniconda3/envs/rapids_env/lib/python3.10/site-packages/nvtx/nvtx.py:122\u001b[0m, in \u001b[0;36mannotate.__call__.<locals>.inner\u001b[0;34m(*args, **kwargs)\u001b[0m\n\u001b[1;32m    119\u001b[0m \u001b[38;5;129m@wraps\u001b[39m(func)\n\u001b[1;32m    120\u001b[0m \u001b[38;5;28;01mdef\u001b[39;00m\u001b[38;5;250m \u001b[39m\u001b[38;5;21minner\u001b[39m(\u001b[38;5;241m*\u001b[39margs, \u001b[38;5;241m*\u001b[39m\u001b[38;5;241m*\u001b[39mkwargs):\n\u001b[1;32m    121\u001b[0m     libnvtx_push_range(\u001b[38;5;28mself\u001b[39m\u001b[38;5;241m.\u001b[39mattributes, \u001b[38;5;28mself\u001b[39m\u001b[38;5;241m.\u001b[39mdomain\u001b[38;5;241m.\u001b[39mhandle)\n\u001b[0;32m--> 122\u001b[0m     result \u001b[38;5;241m=\u001b[39m \u001b[43mfunc\u001b[49m\u001b[43m(\u001b[49m\u001b[38;5;241;43m*\u001b[39;49m\u001b[43margs\u001b[49m\u001b[43m,\u001b[49m\u001b[43m \u001b[49m\u001b[38;5;241;43m*\u001b[39;49m\u001b[38;5;241;43m*\u001b[39;49m\u001b[43mkwargs\u001b[49m\u001b[43m)\u001b[49m\n\u001b[1;32m    123\u001b[0m     libnvtx_pop_range(\u001b[38;5;28mself\u001b[39m\u001b[38;5;241m.\u001b[39mdomain\u001b[38;5;241m.\u001b[39mhandle)\n\u001b[1;32m    124\u001b[0m     \u001b[38;5;28;01mreturn\u001b[39;00m result\n",
            "File \u001b[0;32m~/miniconda3/envs/rapids_env/lib/python3.10/site-packages/cuml/internals/api_decorators.py:188\u001b[0m, in \u001b[0;36m_make_decorator_function.<locals>.decorator_function.<locals>.decorator_closure.<locals>.wrapper\u001b[0;34m(*args, **kwargs)\u001b[0m\n\u001b[1;32m    185\u001b[0m     set_api_output_dtype(output_dtype)\n\u001b[1;32m    187\u001b[0m \u001b[38;5;28;01mif\u001b[39;00m process_return:\n\u001b[0;32m--> 188\u001b[0m     ret \u001b[38;5;241m=\u001b[39m \u001b[43mfunc\u001b[49m\u001b[43m(\u001b[49m\u001b[38;5;241;43m*\u001b[39;49m\u001b[43margs\u001b[49m\u001b[43m,\u001b[49m\u001b[43m \u001b[49m\u001b[38;5;241;43m*\u001b[39;49m\u001b[38;5;241;43m*\u001b[39;49m\u001b[43mkwargs\u001b[49m\u001b[43m)\u001b[49m\n\u001b[1;32m    189\u001b[0m \u001b[38;5;28;01melse\u001b[39;00m:\n\u001b[1;32m    190\u001b[0m     \u001b[38;5;28;01mreturn\u001b[39;00m func(\u001b[38;5;241m*\u001b[39margs, \u001b[38;5;241m*\u001b[39m\u001b[38;5;241m*\u001b[39mkwargs)\n",
            "\u001b[0;31mKeyboardInterrupt\u001b[0m: "
          ]
        }
      ],
      "source": [
        "start_time = time.time()\n",
        "\n",
        "print(f\"Starting GPU-accelerated training with {total_datasets} datasets, {total_ms} bootstrap rates, {total_forests} forest configurations, and {total_folds} CV folds\")\n",
        "\n",
        "for dataset_idx, dataset_path in enumerate(dataset_paths, 1):\n",
        "    dataset_name = os.path.basename(dataset_path)\n",
        "    print(f\"\\nProcessing dataset {dataset_idx}/{total_datasets}: {dataset_name}\")\n",
        "\n",
        "    # Load data with pandas first\n",
        "    df = pd.read_csv(dataset_path)\n",
        "\n",
        "    # Convert to cuDF for GPU processing\n",
        "    X_pd = df.iloc[:, :-1].values\n",
        "    y_pd = df.iloc[:, -1].values\n",
        "\n",
        "    # Convert to CuPy arrays for GPU\n",
        "    X = cp.array(X_pd, dtype=cp.float32)\n",
        "    y = cp.array(y_pd, dtype=cp.float32)\n",
        "\n",
        "    # Standardize the features\n",
        "    X = standard_scaler.fit_transform(X)\n",
        "\n",
        "    dataset_start_time = time.time()\n",
        "\n",
        "    for ms_idx, ms in enumerate(max_samples, 1):\n",
        "        print(f\"  Bootstrap rate {ms_idx}/{total_ms}: {ms}\")\n",
        "\n",
        "        for forest_idx, rfr in enumerate(forests, 1):\n",
        "            forest_start_time = time.time()\n",
        "            print(f\"    Forest model {forest_idx}/{total_forests}: {rfr[0]}\")\n",
        "            cv_mse_scores = []\n",
        "\n",
        "            # Simulate RepeatedKFold by using train_test_split multiple times with different random states\n",
        "            for repeat in range(n_repeats):\n",
        "                # For each repeat, we'll perform n_splits different splits (simulating KFold)\n",
        "                for split in range(n_splits):\n",
        "                    fold_num = repeat * n_splits + split + 1\n",
        "\n",
        "                    if fold_num % 10 == 0:  # Print only every 10 folds to avoid too much output\n",
        "                        print(f\"      Processing fold {fold_num}/{total_folds}\")\n",
        "\n",
        "                    # Use different random state for each split\n",
        "                    random_state = repeat * 100 + split\n",
        "\n",
        "                    # Split data into train and test sets\n",
        "                    X_train, X_test, y_train, y_test = train_test_split(\n",
        "                        X, y, test_size=test_size, random_state=random_state\n",
        "                    )\n",
        "\n",
        "                    # Duplicate data based on bootstrap rate\n",
        "                    X_tr, y_tr = make_X_train(X_train, y_train, ms)\n",
        "                    # Set max_samples parameter for RandomForestRegressor\n",
        "                    max_samples_value = None if ms >= 1 and ms != 1.2 else (0.6 if ms == 1.2 else ms)\n",
        "                    rfr[1].max_samples = max_samples_value\n",
        "\n",
        "                    # Fit the model\n",
        "                    rfr[1].fit(X_tr, y_tr)\n",
        "\n",
        "                    # Predict and evaluate\n",
        "                    y_hat = rfr[1].predict(X_test)\n",
        "                    mse = mean_squared_error(y_test, y_hat)\n",
        "                    cv_mse_scores.append(float(mse))  # Convert from GPU to CPU\n",
        "\n",
        "            # Record results\n",
        "            results['dataset'].append(dataset_path)\n",
        "            results['bootstrap_rate'].append(ms)\n",
        "            results['rf'].append(rfr[0])\n",
        "            results['cv_mse_scores'].append(cv_mse_scores)\n",
        "            results['mean_mse'].append(f'{np.mean(cv_mse_scores):.3f}')\n",
        "            results['std_mse'].append(f'{np.std(cv_mse_scores):.3f}')\n",
        "\n",
        "            forest_time = time.time() - forest_start_time\n",
        "            print(f\"    Completed {rfr[0]} with bootstrap rate {ms}. Mean MSE: {np.mean(cv_mse_scores):.3f}\")\n",
        "            print(f\"    Time taken: {timedelta(seconds=int(forest_time))}\")\n",
        "\n",
        "    dataset_time = time.time() - dataset_start_time\n",
        "    print(f\"  Dataset {dataset_name} completed in {timedelta(seconds=int(dataset_time))}\")\n",
        "\n",
        "total_time = time.time() - start_time\n",
        "print(f\"\\nTraining complete in {timedelta(seconds=int(total_time))}. Saving results...\")\n",
        "\n",
        "wyniki = pd.DataFrame(results)\n",
        "wyniki.to_csv('wyniki_bb.csv', index=False)\n",
        "print(\"Results saved to 'wyniki_bb.csv'\")"
      ]
    }
  ],
  "metadata": {
    "colab": {
      "provenance": []
    },
    "kernelspec": {
      "display_name": "rapids_env",
      "language": "python",
      "name": "python3"
    },
    "language_info": {
      "codemirror_mode": {
        "name": "ipython",
        "version": 3
      },
      "file_extension": ".py",
      "mimetype": "text/x-python",
      "name": "python",
      "nbconvert_exporter": "python",
      "pygments_lexer": "ipython3",
      "version": "3.10.16"
    }
  },
  "nbformat": 4,
  "nbformat_minor": 0
}
