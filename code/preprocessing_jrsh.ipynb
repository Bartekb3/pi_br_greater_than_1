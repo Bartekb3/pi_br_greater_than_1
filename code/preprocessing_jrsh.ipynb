{
 "cells": [
  {
   "cell_type": "markdown",
   "metadata": {},
   "source": [
    "# Preprocessing"
   ]
  },
  {
   "cell_type": "markdown",
   "metadata": {},
   "source": [
    "Data sources:\n",
    "- [Taxi price](https://www.kaggle.com/datasets/denkuznetz/taxi-price-prediction/data?fbclid=IwZXh0bgNhZW0CMTAAAR3EXwfcJrO4pqnY2pId6K4qb2sd01_YLdKmfEKlIZ8bxhvxc2iwQKw01ik_aem_yNsb3V7ymqavEDGZfZZBJA)\n",
    "- [Flood Prediction](https://www.kaggle.com/datasets/naiyakhalid/flood-prediction-dataset?fbclid=IwZXh0bgNhZW0CMTAAAR31KS5Uu8KLo3FP9L0kwUM1iDdiYWZCD2q3fuxnrhup8UB4D-n5KLOinSg_aem_eziiiOqts_lvLdyq2uftIQ)\n",
    "- [Airfoil Self-Noise](https://archive.ics.uci.edu/dataset/291/airfoil+self+noise?fbclid=IwZXh0bgNhZW0CMTAAAR1qsj7CYd84jygC5CQnGTuBnMqopmtgGYAFnm3EtJaz0BBv735Dhu2fut8_aem_lBvbJTztOR47e3Vk2nuNOw)\n",
    "- [Superconductivty Data](https://archive.ics.uci.edu/dataset/464/superconductivty+data?fbclid=IwZXh0bgNhZW0CMTAAAR3dr3Eitf5ZHCekr4hKhaqapt2sgtuSCpSFWogqI5F0o9bnE9edFQro_mg_aem_CYa2w2f-668q3LO-k_DElg)\n",
    "- [SUPPORT2](https://archive.ics.uci.edu/dataset/880/support2?fbclid=IwZXh0bgNhZW0CMTAAAR3dr3Eitf5ZHCekr4hKhaqapt2sgtuSCpSFWogqI5F0o9bnE9edFQro_mg_aem_CYa2w2f-668q3LO-k_DElg)\n",
    "- [Metro Interstate Traffic Volume](https://archive.ics.uci.edu/dataset/492/metro+interstate+traffic+volume?fbclid=IwZXh0bgNhZW0CMTAAAR3dr3Eitf5ZHCekr4hKhaqapt2sgtuSCpSFWogqI5F0o9bnE9edFQro_mg_aem_CYa2w2f-668q3LO-k_DElg)\n",
    "- [BodyFat](https://www.kaggle.com/datasets/fedesoriano/body-fat-prediction-dataset)\n",
    "- [delta_ailerons](https://www.dcc.fc.up.pt/~ltorgo/Regression/delta_ailerons.html)\n",
    "- [delta_elevators](https://www.dcc.fc.up.pt/~ltorgo/Regression/delta_elevators.html)"
   ]
  },
  {
   "cell_type": "code",
   "execution_count": null,
   "metadata": {},
   "outputs": [],
   "source": [
    "import pandas as pd\n",
    "import numpy as np\n",
    "from sklearn.preprocessing import StandardScaler\n",
    "import os"
   ]
  },
  {
   "cell_type": "markdown",
   "metadata": {},
   "source": [
    "## Load data"
   ]
  },
  {
   "cell_type": "code",
   "execution_count": null,
   "metadata": {},
   "outputs": [],
   "source": [
    "df1 = pd.read_csv('./data/airfoil_self_noise.dat', sep='\\\\s+')\n",
    "df1.head()"
   ]
  },
  {
   "cell_type": "code",
   "execution_count": null,
   "metadata": {},
   "outputs": [],
   "source": [
    "df2 = pd.read_csv('./data/flood.csv')\n",
    "df2.head()"
   ]
  },
  {
   "cell_type": "code",
   "execution_count": null,
   "metadata": {},
   "outputs": [],
   "source": [
    "df3 = pd.read_csv('./data/Metro_Interstate_Traffic_Volume.csv')\n",
    "df3.head()"
   ]
  },
  {
   "cell_type": "code",
   "execution_count": null,
   "metadata": {},
   "outputs": [],
   "source": [
    "df4 = pd.read_csv(\"./data/superconductivity.csv\")\n",
    "df4.head()"
   ]
  },
  {
   "cell_type": "code",
   "execution_count": null,
   "metadata": {},
   "outputs": [],
   "source": [
    "df5 = pd.read_csv(\"./data/support2.csv\")\n",
    "df5.head()"
   ]
  },
  {
   "cell_type": "code",
   "execution_count": null,
   "metadata": {},
   "outputs": [],
   "source": [
    "df6 = pd.read_csv(\"./data/taxi_trip_pricing.csv\")\n",
    "df6.head()"
   ]
  },
  {
   "cell_type": "code",
   "execution_count": null,
   "metadata": {},
   "outputs": [],
   "source": [
    "df7 = pd.read_csv('./data/bodyfat.csv')\n",
    "df7.head()"
   ]
  },
  {
   "cell_type": "code",
   "execution_count": null,
   "metadata": {},
   "outputs": [],
   "source": [
    "df8 = pd.read_csv('./data/delta_ailerons.data', sep='\\\\s+')\n",
    "df8.head()"
   ]
  },
  {
   "cell_type": "code",
   "execution_count": null,
   "metadata": {},
   "outputs": [],
   "source": [
    "df9 = pd.read_csv('./data/delta_elevators.data', sep='\\\\s+')\n",
    "df9.head()"
   ]
  },
  {
   "cell_type": "markdown",
   "metadata": {},
   "source": [
    "## Manipulate special columns"
   ]
  },
  {
   "cell_type": "markdown",
   "metadata": {},
   "source": [
    "### df3 - change datetime and holidays column"
   ]
  },
  {
   "cell_type": "code",
   "execution_count": null,
   "metadata": {},
   "outputs": [],
   "source": [
    "def extract_datetime_features(df, datetime_col):\n",
    "    df_copy = df.copy()\n",
    "    \n",
    "    print(f\"Processing datetime column: {datetime_col}\")\n",
    "    if not pd.api.types.is_datetime64_any_dtype(df_copy[datetime_col]):\n",
    "        df_copy[datetime_col] = pd.to_datetime(df_copy[datetime_col], errors='coerce')\n",
    "    \n",
    "    df_copy[f'{datetime_col}_year'] = df_copy[datetime_col].dt.year\n",
    "    df_copy[f'{datetime_col}_month'] = df_copy[datetime_col].dt.month\n",
    "    df_copy[f'{datetime_col}_day'] = df_copy[datetime_col].dt.day\n",
    "    df_copy[f'{datetime_col}_hour'] = df_copy[datetime_col].dt.hour\n",
    "    df_copy[f'{datetime_col}_dayofweek'] = df_copy[datetime_col].dt.dayofweek\n",
    "    df_copy[f'{datetime_col}_quarter'] = df_copy[datetime_col].dt.quarter\n",
    "    df_copy[f'{datetime_col}_is_weekend'] = df_copy[datetime_col].dt.dayofweek >= 5\n",
    "    \n",
    "    df_copy[f'{datetime_col}_month_sin'] = np.sin(2 * np.pi * df_copy[datetime_col].dt.month / 12)\n",
    "    df_copy[f'{datetime_col}_month_cos'] = np.cos(2 * np.pi * df_copy[datetime_col].dt.month / 12)\n",
    "    df_copy[f'{datetime_col}_hour_sin'] = np.sin(2 * np.pi * df_copy[datetime_col].dt.hour / 24)\n",
    "    df_copy[f'{datetime_col}_hour_cos'] = np.cos(2 * np.pi * df_copy[datetime_col].dt.hour / 24)\n",
    "    df_copy[f'{datetime_col}_dayofweek_sin'] = np.sin(2 * np.pi * df_copy[datetime_col].dt.dayofweek / 7)\n",
    "    df_copy[f'{datetime_col}_dayofweek_cos'] = np.cos(2 * np.pi * df_copy[datetime_col].dt.dayofweek / 7)\n",
    "    \n",
    "    df_copy = df_copy.drop(columns=[datetime_col])\n",
    "    \n",
    "    return df_copy"
   ]
  },
  {
   "cell_type": "code",
   "execution_count": null,
   "metadata": {},
   "outputs": [],
   "source": [
    "df3 = extract_datetime_features(df3, 'date_time')\n",
    "df3.head()"
   ]
  },
  {
   "cell_type": "code",
   "execution_count": null,
   "metadata": {},
   "outputs": [],
   "source": [
    "df3['holiday'] = df3['holiday'].apply(lambda x: 0 if pd.isna(x) else 1)\n",
    "df3.head()"
   ]
  },
  {
   "cell_type": "markdown",
   "metadata": {},
   "source": [
    "### df5 - choose target and remove extra cols"
   ]
  },
  {
   "cell_type": "code",
   "execution_count": null,
   "metadata": {},
   "outputs": [],
   "source": [
    "df5_valid_targets = [\"hospdead\", \"death\", \"sfdm2\"]\n",
    "df5_target = df5_valid_targets[0]\n",
    "df5_columns_to_drop = [col for col in df5_valid_targets if col != df5_target] + ['slos', 'd.time']\n",
    "\n",
    "df5 = df5.drop(columns=df5_columns_to_drop)\n",
    "df5.head()"
   ]
  },
  {
   "cell_type": "markdown",
   "metadata": {},
   "source": [
    "## Common changes"
   ]
  },
  {
   "cell_type": "code",
   "execution_count": null,
   "metadata": {},
   "outputs": [],
   "source": [
    "datasets = [\n",
    "    (df1, 'scaled-sound-pressure'),\n",
    "    (df2, 'FloodProbability'),\n",
    "    (df3, 'traffic_volume'),\n",
    "    (df4, 'critical_temp'),\n",
    "    (df5, df5_target),\n",
    "    (df6, 'Trip_Price'),\n",
    "    (df7, 'BodyFat'),\n",
    "    (df8, 'Sa'),\n",
    "    (df9, 'Se'),\n",
    "]"
   ]
  },
  {
   "cell_type": "code",
   "execution_count": null,
   "metadata": {},
   "outputs": [],
   "source": [
    "def preprocess_dataset(df, target_column=None):\n",
    "    print(f\"Original shape: {df.shape}\")\n",
    "    \n",
    "    # Remove duplicates\n",
    "    df = df.drop_duplicates()\n",
    "    print(f\"After removing duplicates: {df.shape}\")\n",
    "    \n",
    "    # Remove columns with a single unique value\n",
    "    single_value_cols = [col for col in df.columns if df[col].nunique() <= 1]\n",
    "    df = df.drop(columns=single_value_cols)\n",
    "    if single_value_cols:\n",
    "        print(f\"Dropped columns with single value: {single_value_cols}\")\n",
    "    print(f\"After dropping single-value columns: {df.shape}\")\n",
    "    \n",
    "    # Remove rows with NaN or missing values in the target column\n",
    "    if target_column is not None:\n",
    "        before_drop = df.shape[0]\n",
    "        df = df.dropna(subset=[target_column])\n",
    "        after_drop = df.shape[0]\n",
    "        print(f\"Removed {before_drop - after_drop} rows with missing target values.\")\n",
    "    \n",
    "    # Handle target column if it is categorical\n",
    "    if target_column is not None:\n",
    "        is_categorical = df[target_column].dtype == 'object' or df[target_column].dtype == 'category' or df[target_column].dtype == 'bool'\n",
    "        is_categorical = is_categorical or (df[target_column].dtype.kind in 'ifu' and df[target_column].nunique() < 10)\n",
    "        \n",
    "        if is_categorical:\n",
    "            class_counts = df[target_column].value_counts()\n",
    "            classes_to_keep = class_counts[class_counts > 1].index\n",
    "            df = df[df[target_column].isin(classes_to_keep)]\n",
    "            print(f\"Target is categorical - after removing rare classes: {df.shape}\")\n",
    "        else:\n",
    "            print(f\"Target is continuous - skipping removal of rare classes\")\n",
    "    \n",
    "    # Continue with the rest of the preprocessing...\n",
    "    numeric_cols = df.select_dtypes(include=['int64', 'float64']).columns.tolist()\n",
    "    categorical_cols = df.select_dtypes(include=['object', 'category', 'bool']).columns.tolist()\n",
    "    \n",
    "    if target_column and target_column in numeric_cols:\n",
    "        numeric_cols.remove(target_column)\n",
    "    if target_column and target_column in categorical_cols:\n",
    "        categorical_cols.remove(target_column)\n",
    "    \n",
    "    binary_categorical_cols = [col for col in categorical_cols if df[col].nunique() == 2]\n",
    "    non_binary_categorical_cols = [col for col in categorical_cols if col not in binary_categorical_cols]\n",
    "    \n",
    "    print(f\"Numeric columns: {len(numeric_cols)}\")\n",
    "    print(f\"Binary categorical columns: {len(binary_categorical_cols)}\")\n",
    "    print(f\"Non-binary categorical columns: {len(non_binary_categorical_cols)}\")\n",
    "    \n",
    "    # Handle NaNs\n",
    "    for col in numeric_cols:\n",
    "        df[col] = df[col].fillna(df[col].mean())\n",
    "    \n",
    "    for col in categorical_cols:\n",
    "        df[col] = df[col].fillna('missing')\n",
    "    \n",
    "    # One-hot encoding\n",
    "    if binary_categorical_cols or non_binary_categorical_cols:\n",
    "        if non_binary_categorical_cols:\n",
    "            df = pd.get_dummies(df, columns=non_binary_categorical_cols, dummy_na=False)\n",
    "        \n",
    "        if binary_categorical_cols:\n",
    "            df = pd.get_dummies(df, columns=binary_categorical_cols, drop_first=True, dummy_na=False)\n",
    "\n",
    "        dummy_cols = [col for col in df.columns if col not in numeric_cols + categorical_cols]\n",
    "        if target_column:\n",
    "            dummy_cols = [col for col in dummy_cols if col != target_column]\n",
    "        for col in dummy_cols:\n",
    "            if df[col].dtype == bool:\n",
    "                df[col] = df[col].astype(int)\n",
    "        \n",
    "        print(f\"Shape after one-hot encoding: {df.shape}\")\n",
    "    \n",
    "    if target_column:\n",
    "        X = df.drop(columns=[target_column])\n",
    "        y = df[target_column].copy()\n",
    "    else:\n",
    "        X = df.copy()\n",
    "        y = None\n",
    "    \n",
    "    # Standardize numeric features\n",
    "    numeric_cols = X.select_dtypes(include=['int64', 'float64']).columns.tolist()\n",
    "    if numeric_cols:\n",
    "        scaler = StandardScaler()\n",
    "        X[numeric_cols] = scaler.fit_transform(X[numeric_cols])\n",
    "    \n",
    "    if target_column:\n",
    "        processed_df = pd.concat([X, y], axis=1)\n",
    "    else:\n",
    "        processed_df = X\n",
    "    \n",
    "    print(f\"Final shape after preprocessing: {processed_df.shape}\")\n",
    "    return processed_df"
   ]
  },
  {
   "cell_type": "code",
   "execution_count": null,
   "metadata": {},
   "outputs": [],
   "source": [
    "processed_dfs = []\n",
    "for i, (df, target) in enumerate(datasets):\n",
    "    print(f\"\\nProcessing dataset {i+1}:\")\n",
    "    processed_df = preprocess_dataset(df, target)\n",
    "    processed_dfs.append(processed_df)\n",
    "    print(f\"First 5 rows of processed dataset {i+1}:\")\n",
    "    print(processed_df.head())"
   ]
  },
  {
   "cell_type": "markdown",
   "metadata": {},
   "source": [
    "## Save data"
   ]
  },
  {
   "cell_type": "code",
   "execution_count": null,
   "metadata": {},
   "outputs": [],
   "source": [
    "output_dir = './../processed_data/preprocessed_data_jrsh'\n",
    "os.makedirs(output_dir, exist_ok=True)\n",
    "\n",
    "dataset_names = [\n",
    "    'airfoil_self_noise',\n",
    "    'flood_probability',\n",
    "    'traffic_volume',\n",
    "    'critical_temp',\n",
    "    'support2',\n",
    "    'taxi_trip',\n",
    "    'bodyfat',\n",
    "    'delta_ailerons',\n",
    "    'delta_elevators',\n",
    "]\n",
    "\n",
    "for i, (df_processed, name) in enumerate(zip(processed_dfs, dataset_names)):\n",
    "    output_path = os.path.join(output_dir, f\"{name}_processed.csv\")\n",
    "    df_processed.to_csv(output_path, index=False)\n",
    "    print(f\"Dataset {i+1} saved to {output_path}\")\n",
    "    print(f\"Shape: {df_processed.shape}\")"
   ]
  }
 ],
 "metadata": {
  "kernelspec": {
   "display_name": "Python 3",
   "language": "python",
   "name": "python3"
  },
  "language_info": {
   "codemirror_mode": {
    "name": "ipython",
    "version": 3
   },
   "file_extension": ".py",
   "mimetype": "text/x-python",
   "name": "python",
   "nbconvert_exporter": "python",
   "pygments_lexer": "ipython3",
   "version": "3.11.2"
  }
 },
 "nbformat": 4,
 "nbformat_minor": 2
}
