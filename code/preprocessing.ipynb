{
 "cells": [
  {
   "cell_type": "code",
   "execution_count": 9,
   "metadata": {},
   "outputs": [],
   "source": [
    "import pandas as pd\n",
    "from sklearn.impute import SimpleImputer\n",
    "from sklearn.preprocessing import StandardScaler, OneHotEncoder\n",
    "from sklearn.compose import ColumnTransformer\n",
    "from sklearn.pipeline import Pipeline\n"
   ]
  },
  {
   "cell_type": "code",
   "execution_count": 56,
   "metadata": {},
   "outputs": [],
   "source": [
    "df1 = pd.read_csv('./data/dataset_Facebook.csv',sep=';')\n",
    "df2 = pd.read_csv('./data/Daily_Demand_Forecasting_Orders.csv',sep=';')\n",
    "df3 = pd.read_csv('./data/yield_df.csv')\n",
    "df4 = pd.read_csv('./data/servo.csv')\n",
    "df5 = pd.read_csv('./data/bupa.csv')\n",
    "df6 = pd.read_csv('./data/forestfires.csv')"
   ]
  },
  {
   "cell_type": "code",
   "execution_count": null,
   "metadata": {},
   "outputs": [],
   "source": [
    "df = df1"
   ]
  },
  {
   "cell_type": "code",
   "execution_count": null,
   "metadata": {},
   "outputs": [],
   "source": [
    "#remove duplicates\n",
    "df.drop_duplicates(inplace=True)\n",
    "\n",
    "#drop columns with a single unique value\n",
    "df.drop(df.columns[df.nunique()==1].tolist(), axis=1, inplace=True)\n",
    "\n",
    "\n",
    "#filling missing values\n",
    "numerical_cols = df.select_dtypes(include=['int64', 'float64']).columns.tolist()\n",
    "categorical_cols = df.select_dtypes(include=['object', 'category']).columns.tolist()\n",
    "\n",
    "for col in numerical_cols:\n",
    "    df[col] = df[col].fillna(df[col].mean())\n",
    "\n",
    "for col in categorical_cols:\n",
    "    df[col] = df[col].fillna('missing')\n",
    "\n",
    "#encoding\n",
    "binary_cols = df.columns[df.nunique()==2].tolist()\n",
    "non_binary_cols = [col for col in categorical_cols if col not in binary_cols]\n",
    "\n",
    "df = pd.get_dummies(df, columns=non_binary_cols)\n",
    "df = pd.get_dummies(df, columns=binary_cols, drop_first=True)\n"
   ]
  }
 ],
 "metadata": {
  "kernelspec": {
   "display_name": "base",
   "language": "python",
   "name": "python3"
  },
  "language_info": {
   "codemirror_mode": {
    "name": "ipython",
    "version": 3
   },
   "file_extension": ".py",
   "mimetype": "text/x-python",
   "name": "python",
   "nbconvert_exporter": "python",
   "pygments_lexer": "ipython3",
   "version": "3.9.12"
  }
 },
 "nbformat": 4,
 "nbformat_minor": 2
}
