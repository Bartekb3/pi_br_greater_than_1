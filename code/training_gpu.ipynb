{
  "cells": [
    {
      "cell_type": "markdown",
      "metadata": {},
      "source": [
        "UWAGA - poniżej również kod do testów na cpu. W celu lokalnych testów warto zrobić tymczasowy katalog z jednym datasetem, na podstawie którego będziemy porównywać czas. "
      ]
    },
    {
      "cell_type": "code",
      "execution_count": 10,
      "metadata": {},
      "outputs": [],
      "source": [
        "# path_to_datasets = './test_data/small/'\n",
        "path_to_datasets = '../test_data/'"
      ]
    },
    {
      "cell_type": "code",
      "execution_count": 11,
      "metadata": {},
      "outputs": [
        {
          "name": "stdout",
          "output_type": "stream",
          "text": [
            "Czy GPU działa? True\n",
            "GPU: b'NVIDIA GeForce RTX 4050 Laptop GPU'\n"
          ]
        }
      ],
      "source": [
        "import cupy as cp\n",
        "\n",
        "print(\"Czy GPU działa?\", cp.cuda.is_available())\n",
        "print(\"GPU:\", cp.cuda.runtime.getDeviceProperties(0)['name'])"
      ]
    },
    {
      "cell_type": "markdown",
      "metadata": {
        "id": "xs4FfJVwRGmA"
      },
      "source": [
        "# Training on gpu"
      ]
    },
    {
      "cell_type": "markdown",
      "metadata": {
        "id": "oo3TfkQcRVJ6"
      },
      "source": [
        "UWAGA - możliwy tylko jak macie kartę zgodną z [CUDA](https://developer.nvidia.com/cuda-gpus). Później trzeba pobrać odpowiednie biblioteki zgodne z wersją cuda np. dla 11.2\n",
        "\n",
        "```bash\n",
        "pip install cupy-cuda112\n",
        "pip install cuml-cu11\n",
        "```\n",
        "teoretycznie działa na google colabie, lokalnie idk, w razie problemów warto promptować"
      ]
    },
    {
      "cell_type": "code",
      "execution_count": 12,
      "metadata": {
        "id": "sQ5QCqpDJ3JV"
      },
      "outputs": [],
      "source": [
        "import os\n",
        "import pandas as pd\n",
        "import numpy as np\n",
        "import cupy as cp\n",
        "from cuml.preprocessing import StandardScaler\n",
        "from cuml.ensemble import RandomForestRegressor\n",
        "from cuml.model_selection import train_test_split\n",
        "from cuml.metrics import mean_squared_error\n",
        "import time\n",
        "from datetime import timedelta"
      ]
    },
    {
      "cell_type": "code",
      "execution_count": 13,
      "metadata": {
        "colab": {
          "base_uri": "https://localhost:8080/"
        },
        "id": "gdHfpCOpJ5m5",
        "outputId": "21931814-6709-40e1-a70b-37970bb75c58"
      },
      "outputs": [
        {
          "name": "stderr",
          "output_type": "stream",
          "text": [
            "/home/bartekb/miniconda3/envs/rapids_env/lib/python3.10/site-packages/cuml/internals/api_decorators.py:344: UserWarning: For reproducible results in Random Forest Classifier or for almost reproducible results in Random Forest Regressor, n_streams=1 is recommended. If n_streams is > 1, results may vary due to stream/thread timing differences, even when random_state is set\n",
            "  return func(**kwargs)\n"
          ]
        }
      ],
      "source": [
        "rf_100 =    ('RF', RandomForestRegressor(random_state=123, n_estimators=100))\n",
        "rf_200 =    ('RF[200]', RandomForestRegressor(random_state=123, n_estimators=200))\n",
        "rf_500 =    ('RF[500]', RandomForestRegressor(random_state=123, n_estimators=500))\n",
        "rf_md_10 =  ('RF[md10]', RandomForestRegressor(random_state=123, max_depth=10))\n",
        "rf_md_15 =  ('RF[md15]', RandomForestRegressor(random_state=123, max_depth=15))\n",
        "rf_md_20 =  ('RF[md20]', RandomForestRegressor(random_state=123, max_depth=20))\n",
        "rf_md_25 =  ('RF[md25]', RandomForestRegressor(random_state=123, max_depth=25))\n",
        "rf_mss_3 =  ('RF[mss3]', RandomForestRegressor(random_state=123, min_samples_split=3))\n",
        "rf_mss_4 =  ('RF[mss4]', RandomForestRegressor(random_state=123, min_samples_split=4))\n",
        "rf_mss_6 =  ('RF[mss6]', RandomForestRegressor(random_state=123, min_samples_split=6))\n",
        "rf_mss_8 =  ('RF[mss8]', RandomForestRegressor(random_state=123, min_samples_split=8))\n",
        "rf_msl_2 =  ('RF[msl2]', RandomForestRegressor(random_state=123, min_samples_leaf=2))\n",
        "rf_msl_3 =  ('RF[msl3]', RandomForestRegressor(random_state=123, min_samples_leaf=3))\n",
        "rf_msl_4 =  ('RF[msl4]', RandomForestRegressor(random_state=123, min_samples_leaf=4))\n",
        "rf_msl_5 =  ('RF[msl5]', RandomForestRegressor(random_state=123, min_samples_leaf=5))\n",
        "rf_mf_log = ('RF[mfLog2]', RandomForestRegressor(random_state=123, max_features=0.301)) # log2 approximation\n",
        "rf_mf_all = ('RF[mfAll]', RandomForestRegressor(random_state=123, max_features=1.0))"
      ]
    },
    {
      "cell_type": "code",
      "execution_count": 14,
      "metadata": {
        "id": "n1OOgQmaJ8Al"
      },
      "outputs": [],
      "source": [
        "max_samples = [0.2, 0.6, 0.8, 1, 1.2, 2, 3, 4, 5]\n",
        "forests = [rf_100, rf_200, rf_500, rf_md_10, rf_md_15, rf_md_20, rf_md_25, rf_mss_3, rf_mss_4, rf_mss_6, rf_mss_8,\n",
        "        rf_msl_2, rf_msl_3, rf_msl_4, rf_msl_5, rf_mf_log, rf_mf_all]"
      ]
    },
    {
      "cell_type": "code",
      "execution_count": 15,
      "metadata": {
        "id": "zFukIs1eKCW4"
      },
      "outputs": [],
      "source": [
        "# Function to duplicate data for bootstrap rates > 1\n",
        "def make_X_train(X_tra, y_tra, max_sample):\n",
        "    if max_sample <= 1:\n",
        "        return X_tra, y_tra\n",
        "    elif 1 < max_sample < 2:\n",
        "        # For GPU arrays, we need to use appropriate concatenation\n",
        "        X_dup = cp.concatenate([X_tra, X_tra], axis=0)\n",
        "        y_dup = cp.concatenate([y_tra, y_tra], axis=0)\n",
        "        return X_dup, y_dup\n",
        "    else:\n",
        "        # Duplicate data max_sample times\n",
        "        repeats = int(max_sample)\n",
        "        X_list = [X_tra] * repeats\n",
        "        y_list = [y_tra] * repeats\n",
        "        X_dup = cp.concatenate(X_list, axis=0)\n",
        "        y_dup = cp.concatenate(y_list, axis=0)\n",
        "        return X_dup, y_dup"
      ]
    },
    {
      "cell_type": "code",
      "execution_count": 17,
      "metadata": {
        "colab": {
          "base_uri": "https://localhost:8080/",
          "height": 206
        },
        "id": "IzDp2n2UK4Ei",
        "outputId": "9a9c2000-fca5-40c5-ce53-b17172ba16cf"
      },
      "outputs": [
        {
          "data": {
            "text/html": [
              "<div>\n",
              "<style scoped>\n",
              "    .dataframe tbody tr th:only-of-type {\n",
              "        vertical-align: middle;\n",
              "    }\n",
              "\n",
              "    .dataframe tbody tr th {\n",
              "        vertical-align: top;\n",
              "    }\n",
              "\n",
              "    .dataframe thead th {\n",
              "        text-align: right;\n",
              "    }\n",
              "</style>\n",
              "<table border=\"1\" class=\"dataframe\">\n",
              "  <thead>\n",
              "    <tr style=\"text-align: right;\">\n",
              "      <th></th>\n",
              "      <th>X1</th>\n",
              "      <th>X2</th>\n",
              "      <th>X3</th>\n",
              "      <th>X4</th>\n",
              "      <th>X5</th>\n",
              "      <th>X6</th>\n",
              "      <th>X7</th>\n",
              "      <th>X8</th>\n",
              "      <th>Y1</th>\n",
              "    </tr>\n",
              "  </thead>\n",
              "  <tbody>\n",
              "    <tr>\n",
              "      <th>0</th>\n",
              "      <td>2.041777</td>\n",
              "      <td>-1.785875</td>\n",
              "      <td>-0.561951</td>\n",
              "      <td>-1.470077</td>\n",
              "      <td>1.0</td>\n",
              "      <td>-1.341641</td>\n",
              "      <td>-1.760447</td>\n",
              "      <td>-1.814575</td>\n",
              "      <td>15.55</td>\n",
              "    </tr>\n",
              "    <tr>\n",
              "      <th>1</th>\n",
              "      <td>2.041777</td>\n",
              "      <td>-1.785875</td>\n",
              "      <td>-0.561951</td>\n",
              "      <td>-1.470077</td>\n",
              "      <td>1.0</td>\n",
              "      <td>-0.447214</td>\n",
              "      <td>-1.760447</td>\n",
              "      <td>-1.814575</td>\n",
              "      <td>15.55</td>\n",
              "    </tr>\n",
              "    <tr>\n",
              "      <th>2</th>\n",
              "      <td>2.041777</td>\n",
              "      <td>-1.785875</td>\n",
              "      <td>-0.561951</td>\n",
              "      <td>-1.470077</td>\n",
              "      <td>1.0</td>\n",
              "      <td>0.447214</td>\n",
              "      <td>-1.760447</td>\n",
              "      <td>-1.814575</td>\n",
              "      <td>15.55</td>\n",
              "    </tr>\n",
              "    <tr>\n",
              "      <th>3</th>\n",
              "      <td>2.041777</td>\n",
              "      <td>-1.785875</td>\n",
              "      <td>-0.561951</td>\n",
              "      <td>-1.470077</td>\n",
              "      <td>1.0</td>\n",
              "      <td>1.341641</td>\n",
              "      <td>-1.760447</td>\n",
              "      <td>-1.814575</td>\n",
              "      <td>15.55</td>\n",
              "    </tr>\n",
              "    <tr>\n",
              "      <th>4</th>\n",
              "      <td>1.284979</td>\n",
              "      <td>-1.229239</td>\n",
              "      <td>0.000000</td>\n",
              "      <td>-1.198678</td>\n",
              "      <td>1.0</td>\n",
              "      <td>-1.341641</td>\n",
              "      <td>-1.760447</td>\n",
              "      <td>-1.814575</td>\n",
              "      <td>20.84</td>\n",
              "    </tr>\n",
              "  </tbody>\n",
              "</table>\n",
              "</div>"
            ],
            "text/plain": [
              "         X1        X2        X3        X4   X5        X6        X7        X8  \\\n",
              "0  2.041777 -1.785875 -0.561951 -1.470077  1.0 -1.341641 -1.760447 -1.814575   \n",
              "1  2.041777 -1.785875 -0.561951 -1.470077  1.0 -0.447214 -1.760447 -1.814575   \n",
              "2  2.041777 -1.785875 -0.561951 -1.470077  1.0  0.447214 -1.760447 -1.814575   \n",
              "3  2.041777 -1.785875 -0.561951 -1.470077  1.0  1.341641 -1.760447 -1.814575   \n",
              "4  1.284979 -1.229239  0.000000 -1.198678  1.0 -1.341641 -1.760447 -1.814575   \n",
              "\n",
              "      Y1  \n",
              "0  15.55  \n",
              "1  15.55  \n",
              "2  15.55  \n",
              "3  15.55  \n",
              "4  20.84  "
            ]
          },
          "execution_count": 17,
          "metadata": {},
          "output_type": "execute_result"
        }
      ],
      "source": [
        "\n",
        "dataset_paths = []\n",
        "for filename in os.listdir(path_to_datasets):\n",
        "    full_path = os.path.join(path_to_datasets, filename)\n",
        "    dataset_paths.append(full_path)\n",
        "\n",
        "results = {'dataset': [],\n",
        "           'bootstrap_rate': [],\n",
        "           'rf': [],\n",
        "           'cv_mse_scores': [],\n",
        "           'mean_mse': [],\n",
        "           'std_mse': []}\n",
        "\n",
        "standard_scaler = StandardScaler()\n",
        "\n",
        "n_splits = 2  # Original number of splits in KFold\n",
        "n_repeats = 200\n",
        "test_size = 1/n_splits  # 1/2 = 0.5 for test set in train_test_split\n",
        "total_datasets = len(dataset_paths)\n",
        "total_ms = len(max_samples)\n",
        "total_forests = len(forests)\n",
        "total_folds = n_splits * n_repeats\n",
        "\n",
        "pd.read_csv(dataset_paths[0]).head()"
      ]
    },
    {
      "cell_type": "code",
      "execution_count": 18,
      "metadata": {
        "colab": {
          "base_uri": "https://localhost:8080/",
          "height": 1000
        },
        "id": "g3YBZIKHP9Rt",
        "outputId": "f7f65ed0-bbd2-482f-9ded-7f59899ce142"
      },
      "outputs": [
        {
          "name": "stdout",
          "output_type": "stream",
          "text": [
            "Starting GPU-accelerated training with 1 datasets, 9 bootstrap rates, 17 forest configurations, and 400 CV folds\n",
            "\n",
            "Processing dataset 1/1: Energy_Efficiency_242_preprocessed.csv\n",
            "  Bootstrap rate 1/9: 0.2\n",
            "    Forest model 1/17: RF\n",
            "      Processing fold 10/400\n",
            "      Processing fold 20/400\n",
            "      Processing fold 30/400\n",
            "      Processing fold 40/400\n",
            "      Processing fold 50/400\n",
            "      Processing fold 60/400\n",
            "      Processing fold 70/400\n",
            "      Processing fold 80/400\n",
            "      Processing fold 90/400\n",
            "      Processing fold 100/400\n",
            "      Processing fold 110/400\n",
            "      Processing fold 120/400\n",
            "      Processing fold 130/400\n",
            "      Processing fold 140/400\n",
            "      Processing fold 150/400\n",
            "      Processing fold 160/400\n",
            "      Processing fold 170/400\n",
            "      Processing fold 180/400\n",
            "      Processing fold 190/400\n",
            "      Processing fold 200/400\n",
            "      Processing fold 210/400\n",
            "      Processing fold 220/400\n",
            "      Processing fold 230/400\n",
            "      Processing fold 240/400\n",
            "      Processing fold 250/400\n",
            "      Processing fold 260/400\n",
            "      Processing fold 270/400\n",
            "      Processing fold 280/400\n",
            "      Processing fold 290/400\n",
            "      Processing fold 300/400\n",
            "      Processing fold 310/400\n",
            "      Processing fold 320/400\n",
            "      Processing fold 330/400\n",
            "      Processing fold 340/400\n",
            "      Processing fold 350/400\n",
            "      Processing fold 360/400\n",
            "      Processing fold 370/400\n",
            "      Processing fold 380/400\n",
            "      Processing fold 390/400\n",
            "      Processing fold 400/400\n",
            "    Completed RF with bootstrap rate 0.2. Mean MSE: 1.321\n",
            "    Time taken: 0:02:57\n",
            "    Forest model 2/17: RF[200]\n",
            "      Processing fold 10/400\n",
            "      Processing fold 20/400\n",
            "      Processing fold 30/400\n",
            "      Processing fold 40/400\n"
          ]
        },
        {
          "ename": "KeyboardInterrupt",
          "evalue": "",
          "output_type": "error",
          "traceback": [
            "\u001b[0;31m---------------------------------------------------------------------------\u001b[0m",
            "\u001b[0;31mKeyboardInterrupt\u001b[0m                         Traceback (most recent call last)",
            "Cell \u001b[0;32mIn[18], line 57\u001b[0m\n\u001b[1;32m     54\u001b[0m rfr[\u001b[38;5;241m1\u001b[39m]\u001b[38;5;241m.\u001b[39mmax_samples \u001b[38;5;241m=\u001b[39m max_samples_value\n\u001b[1;32m     56\u001b[0m \u001b[38;5;66;03m# Fit the model\u001b[39;00m\n\u001b[0;32m---> 57\u001b[0m \u001b[43mrfr\u001b[49m\u001b[43m[\u001b[49m\u001b[38;5;241;43m1\u001b[39;49m\u001b[43m]\u001b[49m\u001b[38;5;241;43m.\u001b[39;49m\u001b[43mfit\u001b[49m\u001b[43m(\u001b[49m\u001b[43mX_tr\u001b[49m\u001b[43m,\u001b[49m\u001b[43m \u001b[49m\u001b[43my_tr\u001b[49m\u001b[43m)\u001b[49m\n\u001b[1;32m     59\u001b[0m \u001b[38;5;66;03m# Predict and evaluate\u001b[39;00m\n\u001b[1;32m     60\u001b[0m y_hat \u001b[38;5;241m=\u001b[39m rfr[\u001b[38;5;241m1\u001b[39m]\u001b[38;5;241m.\u001b[39mpredict(X_test)\n",
            "File \u001b[0;32m~/miniconda3/envs/rapids_env/lib/python3.10/site-packages/nvtx/nvtx.py:122\u001b[0m, in \u001b[0;36mannotate.__call__.<locals>.inner\u001b[0;34m(*args, **kwargs)\u001b[0m\n\u001b[1;32m    119\u001b[0m \u001b[38;5;129m@wraps\u001b[39m(func)\n\u001b[1;32m    120\u001b[0m \u001b[38;5;28;01mdef\u001b[39;00m\u001b[38;5;250m \u001b[39m\u001b[38;5;21minner\u001b[39m(\u001b[38;5;241m*\u001b[39margs, \u001b[38;5;241m*\u001b[39m\u001b[38;5;241m*\u001b[39mkwargs):\n\u001b[1;32m    121\u001b[0m     libnvtx_push_range(\u001b[38;5;28mself\u001b[39m\u001b[38;5;241m.\u001b[39mattributes, \u001b[38;5;28mself\u001b[39m\u001b[38;5;241m.\u001b[39mdomain\u001b[38;5;241m.\u001b[39mhandle)\n\u001b[0;32m--> 122\u001b[0m     result \u001b[38;5;241m=\u001b[39m \u001b[43mfunc\u001b[49m\u001b[43m(\u001b[49m\u001b[38;5;241;43m*\u001b[39;49m\u001b[43margs\u001b[49m\u001b[43m,\u001b[49m\u001b[43m \u001b[49m\u001b[38;5;241;43m*\u001b[39;49m\u001b[38;5;241;43m*\u001b[39;49m\u001b[43mkwargs\u001b[49m\u001b[43m)\u001b[49m\n\u001b[1;32m    123\u001b[0m     libnvtx_pop_range(\u001b[38;5;28mself\u001b[39m\u001b[38;5;241m.\u001b[39mdomain\u001b[38;5;241m.\u001b[39mhandle)\n\u001b[1;32m    124\u001b[0m     \u001b[38;5;28;01mreturn\u001b[39;00m result\n",
            "File \u001b[0;32m~/miniconda3/envs/rapids_env/lib/python3.10/site-packages/cuml/internals/api_decorators.py:188\u001b[0m, in \u001b[0;36m_make_decorator_function.<locals>.decorator_function.<locals>.decorator_closure.<locals>.wrapper\u001b[0;34m(*args, **kwargs)\u001b[0m\n\u001b[1;32m    185\u001b[0m     set_api_output_dtype(output_dtype)\n\u001b[1;32m    187\u001b[0m \u001b[38;5;28;01mif\u001b[39;00m process_return:\n\u001b[0;32m--> 188\u001b[0m     ret \u001b[38;5;241m=\u001b[39m \u001b[43mfunc\u001b[49m\u001b[43m(\u001b[49m\u001b[38;5;241;43m*\u001b[39;49m\u001b[43margs\u001b[49m\u001b[43m,\u001b[49m\u001b[43m \u001b[49m\u001b[38;5;241;43m*\u001b[39;49m\u001b[38;5;241;43m*\u001b[39;49m\u001b[43mkwargs\u001b[49m\u001b[43m)\u001b[49m\n\u001b[1;32m    189\u001b[0m \u001b[38;5;28;01melse\u001b[39;00m:\n\u001b[1;32m    190\u001b[0m     \u001b[38;5;28;01mreturn\u001b[39;00m func(\u001b[38;5;241m*\u001b[39margs, \u001b[38;5;241m*\u001b[39m\u001b[38;5;241m*\u001b[39mkwargs)\n",
            "\u001b[0;31mKeyboardInterrupt\u001b[0m: "
          ]
        }
      ],
      "source": [
        "start_time = time.time()\n",
        "\n",
        "print(f\"Starting GPU-accelerated training with {total_datasets} datasets, {total_ms} bootstrap rates, {total_forests} forest configurations, and {total_folds} CV folds\")\n",
        "\n",
        "for dataset_idx, dataset_path in enumerate(dataset_paths, 1):\n",
        "    dataset_name = os.path.basename(dataset_path)\n",
        "    print(f\"\\nProcessing dataset {dataset_idx}/{total_datasets}: {dataset_name}\")\n",
        "\n",
        "    # Load data with pandas first\n",
        "    df = pd.read_csv(dataset_path)\n",
        "\n",
        "    # Convert to cuDF for GPU processing\n",
        "    X_pd = df.iloc[:, :-1].values\n",
        "    y_pd = df.iloc[:, -1].values\n",
        "\n",
        "    # Convert to CuPy arrays for GPU\n",
        "    X = cp.array(X_pd, dtype=cp.float32)\n",
        "    y = cp.array(y_pd, dtype=cp.float32)\n",
        "\n",
        "    # Standardize the features\n",
        "    X = standard_scaler.fit_transform(X)\n",
        "\n",
        "    dataset_start_time = time.time()\n",
        "\n",
        "    for ms_idx, ms in enumerate(max_samples, 1):\n",
        "        print(f\"  Bootstrap rate {ms_idx}/{total_ms}: {ms}\")\n",
        "\n",
        "        for forest_idx, rfr in enumerate(forests, 1):\n",
        "            forest_start_time = time.time()\n",
        "            print(f\"    Forest model {forest_idx}/{total_forests}: {rfr[0]}\")\n",
        "            cv_mse_scores = []\n",
        "\n",
        "            # Simulate RepeatedKFold by using train_test_split multiple times with different random states\n",
        "            for repeat in range(n_repeats):\n",
        "                # For each repeat, we'll perform n_splits different splits (simulating KFold)\n",
        "                for split in range(n_splits):\n",
        "                    fold_num = repeat * n_splits + split + 1\n",
        "\n",
        "                    if fold_num % 10 == 0:  # Print only every 10 folds to avoid too much output\n",
        "                        print(f\"      Processing fold {fold_num}/{total_folds}\")\n",
        "\n",
        "                    # Use different random state for each split\n",
        "                    random_state = repeat * 100 + split\n",
        "\n",
        "                    # Split data into train and test sets\n",
        "                    X_train, X_test, y_train, y_test = train_test_split(\n",
        "                        X, y, test_size=test_size, random_state=random_state\n",
        "                    )\n",
        "\n",
        "                    # Duplicate data based on bootstrap rate\n",
        "                    X_tr, y_tr = make_X_train(X_train, y_train, ms)\n",
        "                    # Set max_samples parameter for RandomForestRegressor\n",
        "                    max_samples_value = None if ms >= 1 and ms != 1.2 else (0.6 if ms == 1.2 else ms)\n",
        "                    rfr[1].max_samples = max_samples_value\n",
        "\n",
        "                    # Fit the model\n",
        "                    rfr[1].fit(X_tr, y_tr)\n",
        "\n",
        "                    # Predict and evaluate\n",
        "                    y_hat = rfr[1].predict(X_test)\n",
        "                    mse = mean_squared_error(y_test, y_hat)\n",
        "                    cv_mse_scores.append(float(mse))  # Convert from GPU to CPU\n",
        "\n",
        "            # Record results\n",
        "            results['dataset'].append(dataset_path)\n",
        "            results['bootstrap_rate'].append(ms)\n",
        "            results['rf'].append(rfr[0])\n",
        "            results['cv_mse_scores'].append(cv_mse_scores)\n",
        "            results['mean_mse'].append(f'{np.mean(cv_mse_scores):.3f}')\n",
        "            results['std_mse'].append(f'{np.std(cv_mse_scores):.3f}')\n",
        "\n",
        "            forest_time = time.time() - forest_start_time\n",
        "            print(f\"    Completed {rfr[0]} with bootstrap rate {ms}. Mean MSE: {np.mean(cv_mse_scores):.3f}\")\n",
        "            print(f\"    Time taken: {timedelta(seconds=int(forest_time))}\")\n",
        "\n",
        "    dataset_time = time.time() - dataset_start_time\n",
        "    print(f\"  Dataset {dataset_name} completed in {timedelta(seconds=int(dataset_time))}\")\n",
        "\n",
        "total_time = time.time() - start_time\n",
        "print(f\"\\nTraining complete in {timedelta(seconds=int(total_time))}. Saving results...\")\n",
        "\n",
        "wyniki = pd.DataFrame(results)\n",
        "wyniki.to_csv('wyniki_gpu.csv', index=False)\n",
        "print(\"Results saved to 'wyniki_gpu.csv'\")"
      ]
    },
    {
      "cell_type": "markdown",
      "metadata": {
        "id": "OYsfE7F4XLpL"
      },
      "source": [
        "# Training on cpu"
      ]
    },
    {
      "cell_type": "code",
      "execution_count": 20,
      "metadata": {
        "id": "CcdwAEZiXR3W"
      },
      "outputs": [],
      "source": [
        "from sklearn.preprocessing import StandardScaler\n",
        "import pandas as pd\n",
        "import numpy as np\n",
        "from sklearn.ensemble import RandomForestRegressor\n",
        "from sklearn.model_selection import RepeatedKFold\n",
        "import os\n",
        "from sklearn.metrics import mean_squared_error\n",
        "import time\n",
        "from datetime import timedelta\n"
      ]
    },
    {
      "cell_type": "code",
      "execution_count": 21,
      "metadata": {
        "id": "e63l5DYpXRoQ"
      },
      "outputs": [],
      "source": [
        "rf_100 =    ('RF', RandomForestRegressor(random_state=123, n_jobs=-1, n_estimators=100))\n",
        "rf_200 =    ('RF[200]', RandomForestRegressor(random_state=123, n_jobs=-1,  n_estimators=200))\n",
        "rf_500 =    ('RF[500]', RandomForestRegressor(random_state=123, n_jobs=-1, n_estimators=500))\n",
        "rf_md_10 =  ('RF[md10]', RandomForestRegressor(random_state=123, n_jobs=-1, max_depth=10))\n",
        "rf_md_15 =  ('RF[md15]', RandomForestRegressor(random_state=123, n_jobs=-1, max_depth=15))\n",
        "rf_md_20 =  ('RF[md20]', RandomForestRegressor(random_state=123, n_jobs=-1, max_depth=20))\n",
        "rf_md_25 =  ('RF[md25]', RandomForestRegressor(random_state=123, n_jobs=-1, max_depth=25))\n",
        "rf_mss_3 =  ('RF[mss3]', RandomForestRegressor(random_state=123, n_jobs=-1, min_samples_split=3))\n",
        "rf_mss_4 =  ('RF[mss4]', RandomForestRegressor(random_state=123, n_jobs=-1, min_samples_split=4))\n",
        "rf_mss_6 =  ('RF[mss6]', RandomForestRegressor(random_state=123, n_jobs=-1, min_samples_split=6))\n",
        "rf_mss_8 =  ('RF[mss8]', RandomForestRegressor(random_state=123, n_jobs=-1, min_samples_split=8))\n",
        "rf_msl_2 =  ('RF[msl2]', RandomForestRegressor(random_state=123, n_jobs=-1, min_samples_leaf=2))\n",
        "rf_msl_3 =  ('RF[msl3]', RandomForestRegressor(random_state=123, n_jobs=-1, min_samples_leaf=3))\n",
        "rf_msl_4 =  ('RF[msl4]', RandomForestRegressor(random_state=123, n_jobs=-1, min_samples_leaf=4))\n",
        "rf_msl_5 =  ('RF[msl5]', RandomForestRegressor(random_state=123, n_jobs=-1, min_samples_leaf=5))\n",
        "rf_mf_log = ('RF[mfLog2]', RandomForestRegressor(random_state=123, n_jobs=-1, max_features=\"log2\"))\n",
        "rf_mf_all = ('RF[mfAll]', RandomForestRegressor(random_state=123, n_jobs=-1, max_features=None))"
      ]
    },
    {
      "cell_type": "code",
      "execution_count": 22,
      "metadata": {
        "id": "UpQdZYRPXVaU"
      },
      "outputs": [],
      "source": [
        "max_samples = [0.2, 0.6, 0.8, 1, 1.2, 2, 3, 4, 5]\n",
        "forests = [rf_100, rf_200, rf_500, rf_md_10, rf_md_15, rf_md_20, rf_md_25, rf_mss_3, rf_mss_4, rf_mss_6, rf_mss_8,\n",
        "        rf_msl_2, rf_msl_3, rf_msl_4, rf_msl_5, rf_mf_log, rf_mf_all]"
      ]
    },
    {
      "cell_type": "code",
      "execution_count": 23,
      "metadata": {
        "id": "afBrso1IXeZv"
      },
      "outputs": [],
      "source": [
        "def make_X_train(X_tra, y_tra, max_sample):\n",
        "    if max_sample <= 1:\n",
        "        return X_tra, y_tra\n",
        "    elif 1 < max_sample < 2:\n",
        "        return np.tile(X_tra, (2, 1)), np.tile(y_tra, 2)\n",
        "    else:\n",
        "        return np.tile(X_tra, (max_sample, 1)), np.tile(y_tra, max_sample)"
      ]
    },
    {
      "cell_type": "code",
      "execution_count": 24,
      "metadata": {
        "colab": {
          "base_uri": "https://localhost:8080/",
          "height": 206
        },
        "id": "v8tS5FLfXe8W",
        "outputId": "448c49d3-ca44-40c7-c3d8-e05d4514ed7c"
      },
      "outputs": [
        {
          "data": {
            "text/html": [
              "<div>\n",
              "<style scoped>\n",
              "    .dataframe tbody tr th:only-of-type {\n",
              "        vertical-align: middle;\n",
              "    }\n",
              "\n",
              "    .dataframe tbody tr th {\n",
              "        vertical-align: top;\n",
              "    }\n",
              "\n",
              "    .dataframe thead th {\n",
              "        text-align: right;\n",
              "    }\n",
              "</style>\n",
              "<table border=\"1\" class=\"dataframe\">\n",
              "  <thead>\n",
              "    <tr style=\"text-align: right;\">\n",
              "      <th></th>\n",
              "      <th>X1</th>\n",
              "      <th>X2</th>\n",
              "      <th>X3</th>\n",
              "      <th>X4</th>\n",
              "      <th>X5</th>\n",
              "      <th>X6</th>\n",
              "      <th>X7</th>\n",
              "      <th>X8</th>\n",
              "      <th>Y1</th>\n",
              "    </tr>\n",
              "  </thead>\n",
              "  <tbody>\n",
              "    <tr>\n",
              "      <th>0</th>\n",
              "      <td>2.041777</td>\n",
              "      <td>-1.785875</td>\n",
              "      <td>-0.561951</td>\n",
              "      <td>-1.470077</td>\n",
              "      <td>1.0</td>\n",
              "      <td>-1.341641</td>\n",
              "      <td>-1.760447</td>\n",
              "      <td>-1.814575</td>\n",
              "      <td>15.55</td>\n",
              "    </tr>\n",
              "    <tr>\n",
              "      <th>1</th>\n",
              "      <td>2.041777</td>\n",
              "      <td>-1.785875</td>\n",
              "      <td>-0.561951</td>\n",
              "      <td>-1.470077</td>\n",
              "      <td>1.0</td>\n",
              "      <td>-0.447214</td>\n",
              "      <td>-1.760447</td>\n",
              "      <td>-1.814575</td>\n",
              "      <td>15.55</td>\n",
              "    </tr>\n",
              "    <tr>\n",
              "      <th>2</th>\n",
              "      <td>2.041777</td>\n",
              "      <td>-1.785875</td>\n",
              "      <td>-0.561951</td>\n",
              "      <td>-1.470077</td>\n",
              "      <td>1.0</td>\n",
              "      <td>0.447214</td>\n",
              "      <td>-1.760447</td>\n",
              "      <td>-1.814575</td>\n",
              "      <td>15.55</td>\n",
              "    </tr>\n",
              "    <tr>\n",
              "      <th>3</th>\n",
              "      <td>2.041777</td>\n",
              "      <td>-1.785875</td>\n",
              "      <td>-0.561951</td>\n",
              "      <td>-1.470077</td>\n",
              "      <td>1.0</td>\n",
              "      <td>1.341641</td>\n",
              "      <td>-1.760447</td>\n",
              "      <td>-1.814575</td>\n",
              "      <td>15.55</td>\n",
              "    </tr>\n",
              "    <tr>\n",
              "      <th>4</th>\n",
              "      <td>1.284979</td>\n",
              "      <td>-1.229239</td>\n",
              "      <td>0.000000</td>\n",
              "      <td>-1.198678</td>\n",
              "      <td>1.0</td>\n",
              "      <td>-1.341641</td>\n",
              "      <td>-1.760447</td>\n",
              "      <td>-1.814575</td>\n",
              "      <td>20.84</td>\n",
              "    </tr>\n",
              "  </tbody>\n",
              "</table>\n",
              "</div>"
            ],
            "text/plain": [
              "         X1        X2        X3        X4   X5        X6        X7        X8  \\\n",
              "0  2.041777 -1.785875 -0.561951 -1.470077  1.0 -1.341641 -1.760447 -1.814575   \n",
              "1  2.041777 -1.785875 -0.561951 -1.470077  1.0 -0.447214 -1.760447 -1.814575   \n",
              "2  2.041777 -1.785875 -0.561951 -1.470077  1.0  0.447214 -1.760447 -1.814575   \n",
              "3  2.041777 -1.785875 -0.561951 -1.470077  1.0  1.341641 -1.760447 -1.814575   \n",
              "4  1.284979 -1.229239  0.000000 -1.198678  1.0 -1.341641 -1.760447 -1.814575   \n",
              "\n",
              "      Y1  \n",
              "0  15.55  \n",
              "1  15.55  \n",
              "2  15.55  \n",
              "3  15.55  \n",
              "4  20.84  "
            ]
          },
          "execution_count": 24,
          "metadata": {},
          "output_type": "execute_result"
        }
      ],
      "source": [
        "dataset_paths = []\n",
        "for filename in os.listdir(path_to_datasets):\n",
        "    full_path = os.path.join(path_to_datasets, filename)\n",
        "    dataset_paths.append(full_path)\n",
        "results = {'dataset' : [],\n",
        "           'bootstrap_rate': [],\n",
        "           'rf' : [],\n",
        "           'cv_mse_scores' : [],\n",
        "           'mean_mse' : [],\n",
        "           'std_mse' : []}\n",
        "\n",
        "standard_scaler = StandardScaler()\n",
        "cvsplit = RepeatedKFold(n_splits=2, n_repeats=200, random_state=42)\n",
        "total_datasets = len(dataset_paths)\n",
        "total_ms = len(max_samples)\n",
        "total_forests = len(forests)\n",
        "total_folds = 2 * 200  # n_splits * n_repeats\n",
        "\n",
        "pd.read_csv(dataset_paths[0]).head()"
      ]
    },
    {
      "cell_type": "code",
      "execution_count": 25,
      "metadata": {
        "colab": {
          "base_uri": "https://localhost:8080/",
          "height": 1000
        },
        "id": "yApRp1jNXJ1M",
        "outputId": "d603058d-8106-4ad7-85fd-40d994af158d"
      },
      "outputs": [
        {
          "name": "stdout",
          "output_type": "stream",
          "text": [
            "Starting training with 1 datasets, 9 bootstrap rates, 17 forest configurations, and 400 CV folds\n",
            "\n",
            "Processing dataset 1/1: Energy_Efficiency_242_preprocessed.csv\n",
            "  Bootstrap rate 1/9: 0.2\n",
            "    Forest model 1/17: RF\n",
            "      Processing fold 10/400\n",
            "      Processing fold 20/400\n",
            "      Processing fold 30/400\n",
            "      Processing fold 40/400\n",
            "      Processing fold 50/400\n",
            "      Processing fold 60/400\n",
            "      Processing fold 70/400\n",
            "      Processing fold 80/400\n",
            "      Processing fold 90/400\n",
            "      Processing fold 100/400\n",
            "      Processing fold 110/400\n",
            "      Processing fold 120/400\n",
            "      Processing fold 130/400\n",
            "      Processing fold 140/400\n",
            "      Processing fold 150/400\n",
            "      Processing fold 160/400\n",
            "      Processing fold 170/400\n",
            "      Processing fold 180/400\n",
            "      Processing fold 190/400\n",
            "      Processing fold 200/400\n",
            "      Processing fold 210/400\n",
            "      Processing fold 220/400\n",
            "      Processing fold 230/400\n",
            "      Processing fold 240/400\n",
            "      Processing fold 250/400\n",
            "      Processing fold 260/400\n",
            "      Processing fold 270/400\n"
          ]
        },
        {
          "ename": "KeyboardInterrupt",
          "evalue": "",
          "output_type": "error",
          "traceback": [
            "\u001b[0;31m---------------------------------------------------------------------------\u001b[0m",
            "\u001b[0;31mKeyboardInterrupt\u001b[0m                         Traceback (most recent call last)",
            "Cell \u001b[0;32mIn[25], line 34\u001b[0m\n\u001b[1;32m     31\u001b[0m X_tr, y_tr \u001b[38;5;241m=\u001b[39m make_X_train(X_train, y_train, ms)\n\u001b[1;32m     33\u001b[0m rfr[\u001b[38;5;241m1\u001b[39m]\u001b[38;5;241m.\u001b[39mmax_samples \u001b[38;5;241m=\u001b[39m \u001b[38;5;28;01mNone\u001b[39;00m \u001b[38;5;28;01mif\u001b[39;00m ms \u001b[38;5;241m>\u001b[39m\u001b[38;5;241m=\u001b[39m \u001b[38;5;241m1\u001b[39m \u001b[38;5;129;01mand\u001b[39;00m ms \u001b[38;5;241m!=\u001b[39m \u001b[38;5;241m1.2\u001b[39m \u001b[38;5;28;01melse\u001b[39;00m (\u001b[38;5;241m0.6\u001b[39m \u001b[38;5;28;01mif\u001b[39;00m ms \u001b[38;5;241m==\u001b[39m \u001b[38;5;241m1.2\u001b[39m \u001b[38;5;28;01melse\u001b[39;00m ms)\n\u001b[0;32m---> 34\u001b[0m \u001b[43mrfr\u001b[49m\u001b[43m[\u001b[49m\u001b[38;5;241;43m1\u001b[39;49m\u001b[43m]\u001b[49m\u001b[38;5;241;43m.\u001b[39;49m\u001b[43mfit\u001b[49m\u001b[43m(\u001b[49m\u001b[43mX_tr\u001b[49m\u001b[43m,\u001b[49m\u001b[43m \u001b[49m\u001b[43my_tr\u001b[49m\u001b[43m)\u001b[49m\n\u001b[1;32m     36\u001b[0m y_hat \u001b[38;5;241m=\u001b[39m rfr[\u001b[38;5;241m1\u001b[39m]\u001b[38;5;241m.\u001b[39mpredict(X_test)\n\u001b[1;32m     37\u001b[0m mse \u001b[38;5;241m=\u001b[39m mean_squared_error(y_test, y_hat)\n",
            "File \u001b[0;32m~/miniconda3/envs/rapids_env/lib/python3.10/site-packages/sklearn/base.py:1389\u001b[0m, in \u001b[0;36m_fit_context.<locals>.decorator.<locals>.wrapper\u001b[0;34m(estimator, *args, **kwargs)\u001b[0m\n\u001b[1;32m   1382\u001b[0m     estimator\u001b[38;5;241m.\u001b[39m_validate_params()\n\u001b[1;32m   1384\u001b[0m \u001b[38;5;28;01mwith\u001b[39;00m config_context(\n\u001b[1;32m   1385\u001b[0m     skip_parameter_validation\u001b[38;5;241m=\u001b[39m(\n\u001b[1;32m   1386\u001b[0m         prefer_skip_nested_validation \u001b[38;5;129;01mor\u001b[39;00m global_skip_validation\n\u001b[1;32m   1387\u001b[0m     )\n\u001b[1;32m   1388\u001b[0m ):\n\u001b[0;32m-> 1389\u001b[0m     \u001b[38;5;28;01mreturn\u001b[39;00m \u001b[43mfit_method\u001b[49m\u001b[43m(\u001b[49m\u001b[43mestimator\u001b[49m\u001b[43m,\u001b[49m\u001b[43m \u001b[49m\u001b[38;5;241;43m*\u001b[39;49m\u001b[43margs\u001b[49m\u001b[43m,\u001b[49m\u001b[43m \u001b[49m\u001b[38;5;241;43m*\u001b[39;49m\u001b[38;5;241;43m*\u001b[39;49m\u001b[43mkwargs\u001b[49m\u001b[43m)\u001b[49m\n",
            "File \u001b[0;32m~/miniconda3/envs/rapids_env/lib/python3.10/site-packages/sklearn/ensemble/_forest.py:487\u001b[0m, in \u001b[0;36mBaseForest.fit\u001b[0;34m(self, X, y, sample_weight)\u001b[0m\n\u001b[1;32m    476\u001b[0m trees \u001b[38;5;241m=\u001b[39m [\n\u001b[1;32m    477\u001b[0m     \u001b[38;5;28mself\u001b[39m\u001b[38;5;241m.\u001b[39m_make_estimator(append\u001b[38;5;241m=\u001b[39m\u001b[38;5;28;01mFalse\u001b[39;00m, random_state\u001b[38;5;241m=\u001b[39mrandom_state)\n\u001b[1;32m    478\u001b[0m     \u001b[38;5;28;01mfor\u001b[39;00m i \u001b[38;5;129;01min\u001b[39;00m \u001b[38;5;28mrange\u001b[39m(n_more_estimators)\n\u001b[1;32m    479\u001b[0m ]\n\u001b[1;32m    481\u001b[0m \u001b[38;5;66;03m# Parallel loop: we prefer the threading backend as the Cython code\u001b[39;00m\n\u001b[1;32m    482\u001b[0m \u001b[38;5;66;03m# for fitting the trees is internally releasing the Python GIL\u001b[39;00m\n\u001b[1;32m    483\u001b[0m \u001b[38;5;66;03m# making threading more efficient than multiprocessing in\u001b[39;00m\n\u001b[1;32m    484\u001b[0m \u001b[38;5;66;03m# that case. However, for joblib 0.12+ we respect any\u001b[39;00m\n\u001b[1;32m    485\u001b[0m \u001b[38;5;66;03m# parallel_backend contexts set at a higher level,\u001b[39;00m\n\u001b[1;32m    486\u001b[0m \u001b[38;5;66;03m# since correctness does not rely on using threads.\u001b[39;00m\n\u001b[0;32m--> 487\u001b[0m trees \u001b[38;5;241m=\u001b[39m \u001b[43mParallel\u001b[49m\u001b[43m(\u001b[49m\n\u001b[1;32m    488\u001b[0m \u001b[43m    \u001b[49m\u001b[43mn_jobs\u001b[49m\u001b[38;5;241;43m=\u001b[39;49m\u001b[38;5;28;43mself\u001b[39;49m\u001b[38;5;241;43m.\u001b[39;49m\u001b[43mn_jobs\u001b[49m\u001b[43m,\u001b[49m\n\u001b[1;32m    489\u001b[0m \u001b[43m    \u001b[49m\u001b[43mverbose\u001b[49m\u001b[38;5;241;43m=\u001b[39;49m\u001b[38;5;28;43mself\u001b[39;49m\u001b[38;5;241;43m.\u001b[39;49m\u001b[43mverbose\u001b[49m\u001b[43m,\u001b[49m\n\u001b[1;32m    490\u001b[0m \u001b[43m    \u001b[49m\u001b[43mprefer\u001b[49m\u001b[38;5;241;43m=\u001b[39;49m\u001b[38;5;124;43m\"\u001b[39;49m\u001b[38;5;124;43mthreads\u001b[39;49m\u001b[38;5;124;43m\"\u001b[39;49m\u001b[43m,\u001b[49m\n\u001b[1;32m    491\u001b[0m \u001b[43m\u001b[49m\u001b[43m)\u001b[49m\u001b[43m(\u001b[49m\n\u001b[1;32m    492\u001b[0m \u001b[43m    \u001b[49m\u001b[43mdelayed\u001b[49m\u001b[43m(\u001b[49m\u001b[43m_parallel_build_trees\u001b[49m\u001b[43m)\u001b[49m\u001b[43m(\u001b[49m\n\u001b[1;32m    493\u001b[0m \u001b[43m        \u001b[49m\u001b[43mt\u001b[49m\u001b[43m,\u001b[49m\n\u001b[1;32m    494\u001b[0m \u001b[43m        \u001b[49m\u001b[38;5;28;43mself\u001b[39;49m\u001b[38;5;241;43m.\u001b[39;49m\u001b[43mbootstrap\u001b[49m\u001b[43m,\u001b[49m\n\u001b[1;32m    495\u001b[0m \u001b[43m        \u001b[49m\u001b[43mX\u001b[49m\u001b[43m,\u001b[49m\n\u001b[1;32m    496\u001b[0m \u001b[43m        \u001b[49m\u001b[43my\u001b[49m\u001b[43m,\u001b[49m\n\u001b[1;32m    497\u001b[0m \u001b[43m        \u001b[49m\u001b[43msample_weight\u001b[49m\u001b[43m,\u001b[49m\n\u001b[1;32m    498\u001b[0m \u001b[43m        \u001b[49m\u001b[43mi\u001b[49m\u001b[43m,\u001b[49m\n\u001b[1;32m    499\u001b[0m \u001b[43m        \u001b[49m\u001b[38;5;28;43mlen\u001b[39;49m\u001b[43m(\u001b[49m\u001b[43mtrees\u001b[49m\u001b[43m)\u001b[49m\u001b[43m,\u001b[49m\n\u001b[1;32m    500\u001b[0m \u001b[43m        \u001b[49m\u001b[43mverbose\u001b[49m\u001b[38;5;241;43m=\u001b[39;49m\u001b[38;5;28;43mself\u001b[39;49m\u001b[38;5;241;43m.\u001b[39;49m\u001b[43mverbose\u001b[49m\u001b[43m,\u001b[49m\n\u001b[1;32m    501\u001b[0m \u001b[43m        \u001b[49m\u001b[43mclass_weight\u001b[49m\u001b[38;5;241;43m=\u001b[39;49m\u001b[38;5;28;43mself\u001b[39;49m\u001b[38;5;241;43m.\u001b[39;49m\u001b[43mclass_weight\u001b[49m\u001b[43m,\u001b[49m\n\u001b[1;32m    502\u001b[0m \u001b[43m        \u001b[49m\u001b[43mn_samples_bootstrap\u001b[49m\u001b[38;5;241;43m=\u001b[39;49m\u001b[43mn_samples_bootstrap\u001b[49m\u001b[43m,\u001b[49m\n\u001b[1;32m    503\u001b[0m \u001b[43m        \u001b[49m\u001b[43mmissing_values_in_feature_mask\u001b[49m\u001b[38;5;241;43m=\u001b[39;49m\u001b[43mmissing_values_in_feature_mask\u001b[49m\u001b[43m,\u001b[49m\n\u001b[1;32m    504\u001b[0m \u001b[43m    \u001b[49m\u001b[43m)\u001b[49m\n\u001b[1;32m    505\u001b[0m \u001b[43m    \u001b[49m\u001b[38;5;28;43;01mfor\u001b[39;49;00m\u001b[43m \u001b[49m\u001b[43mi\u001b[49m\u001b[43m,\u001b[49m\u001b[43m \u001b[49m\u001b[43mt\u001b[49m\u001b[43m \u001b[49m\u001b[38;5;129;43;01min\u001b[39;49;00m\u001b[43m \u001b[49m\u001b[38;5;28;43menumerate\u001b[39;49m\u001b[43m(\u001b[49m\u001b[43mtrees\u001b[49m\u001b[43m)\u001b[49m\n\u001b[1;32m    506\u001b[0m \u001b[43m\u001b[49m\u001b[43m)\u001b[49m\n\u001b[1;32m    508\u001b[0m \u001b[38;5;66;03m# Collect newly grown trees\u001b[39;00m\n\u001b[1;32m    509\u001b[0m \u001b[38;5;28mself\u001b[39m\u001b[38;5;241m.\u001b[39mestimators_\u001b[38;5;241m.\u001b[39mextend(trees)\n",
            "File \u001b[0;32m~/miniconda3/envs/rapids_env/lib/python3.10/site-packages/sklearn/utils/parallel.py:77\u001b[0m, in \u001b[0;36mParallel.__call__\u001b[0;34m(self, iterable)\u001b[0m\n\u001b[1;32m     72\u001b[0m config \u001b[38;5;241m=\u001b[39m get_config()\n\u001b[1;32m     73\u001b[0m iterable_with_config \u001b[38;5;241m=\u001b[39m (\n\u001b[1;32m     74\u001b[0m     (_with_config(delayed_func, config), args, kwargs)\n\u001b[1;32m     75\u001b[0m     \u001b[38;5;28;01mfor\u001b[39;00m delayed_func, args, kwargs \u001b[38;5;129;01min\u001b[39;00m iterable\n\u001b[1;32m     76\u001b[0m )\n\u001b[0;32m---> 77\u001b[0m \u001b[38;5;28;01mreturn\u001b[39;00m \u001b[38;5;28;43msuper\u001b[39;49m\u001b[43m(\u001b[49m\u001b[43m)\u001b[49m\u001b[38;5;241;43m.\u001b[39;49m\u001b[38;5;21;43m__call__\u001b[39;49m\u001b[43m(\u001b[49m\u001b[43miterable_with_config\u001b[49m\u001b[43m)\u001b[49m\n",
            "File \u001b[0;32m~/miniconda3/envs/rapids_env/lib/python3.10/site-packages/joblib/parallel.py:2007\u001b[0m, in \u001b[0;36mParallel.__call__\u001b[0;34m(self, iterable)\u001b[0m\n\u001b[1;32m   2001\u001b[0m \u001b[38;5;66;03m# The first item from the output is blank, but it makes the interpreter\u001b[39;00m\n\u001b[1;32m   2002\u001b[0m \u001b[38;5;66;03m# progress until it enters the Try/Except block of the generator and\u001b[39;00m\n\u001b[1;32m   2003\u001b[0m \u001b[38;5;66;03m# reaches the first `yield` statement. This starts the asynchronous\u001b[39;00m\n\u001b[1;32m   2004\u001b[0m \u001b[38;5;66;03m# dispatch of the tasks to the workers.\u001b[39;00m\n\u001b[1;32m   2005\u001b[0m \u001b[38;5;28mnext\u001b[39m(output)\n\u001b[0;32m-> 2007\u001b[0m \u001b[38;5;28;01mreturn\u001b[39;00m output \u001b[38;5;28;01mif\u001b[39;00m \u001b[38;5;28mself\u001b[39m\u001b[38;5;241m.\u001b[39mreturn_generator \u001b[38;5;28;01melse\u001b[39;00m \u001b[38;5;28;43mlist\u001b[39;49m\u001b[43m(\u001b[49m\u001b[43moutput\u001b[49m\u001b[43m)\u001b[49m\n",
            "File \u001b[0;32m~/miniconda3/envs/rapids_env/lib/python3.10/site-packages/joblib/parallel.py:1650\u001b[0m, in \u001b[0;36mParallel._get_outputs\u001b[0;34m(self, iterator, pre_dispatch)\u001b[0m\n\u001b[1;32m   1647\u001b[0m     \u001b[38;5;28;01myield\u001b[39;00m\n\u001b[1;32m   1649\u001b[0m     \u001b[38;5;28;01mwith\u001b[39;00m \u001b[38;5;28mself\u001b[39m\u001b[38;5;241m.\u001b[39m_backend\u001b[38;5;241m.\u001b[39mretrieval_context():\n\u001b[0;32m-> 1650\u001b[0m         \u001b[38;5;28;01myield from\u001b[39;00m \u001b[38;5;28mself\u001b[39m\u001b[38;5;241m.\u001b[39m_retrieve()\n\u001b[1;32m   1652\u001b[0m \u001b[38;5;28;01mexcept\u001b[39;00m \u001b[38;5;167;01mGeneratorExit\u001b[39;00m:\n\u001b[1;32m   1653\u001b[0m     \u001b[38;5;66;03m# The generator has been garbage collected before being fully\u001b[39;00m\n\u001b[1;32m   1654\u001b[0m     \u001b[38;5;66;03m# consumed. This aborts the remaining tasks if possible and warn\u001b[39;00m\n\u001b[1;32m   1655\u001b[0m     \u001b[38;5;66;03m# the user if necessary.\u001b[39;00m\n\u001b[1;32m   1656\u001b[0m     \u001b[38;5;28mself\u001b[39m\u001b[38;5;241m.\u001b[39m_exception \u001b[38;5;241m=\u001b[39m \u001b[38;5;28;01mTrue\u001b[39;00m\n",
            "File \u001b[0;32m~/miniconda3/envs/rapids_env/lib/python3.10/site-packages/joblib/parallel.py:1762\u001b[0m, in \u001b[0;36mParallel._retrieve\u001b[0;34m(self)\u001b[0m\n\u001b[1;32m   1757\u001b[0m \u001b[38;5;66;03m# If the next job is not ready for retrieval yet, we just wait for\u001b[39;00m\n\u001b[1;32m   1758\u001b[0m \u001b[38;5;66;03m# async callbacks to progress.\u001b[39;00m\n\u001b[1;32m   1759\u001b[0m \u001b[38;5;28;01mif\u001b[39;00m ((\u001b[38;5;28mlen\u001b[39m(\u001b[38;5;28mself\u001b[39m\u001b[38;5;241m.\u001b[39m_jobs) \u001b[38;5;241m==\u001b[39m \u001b[38;5;241m0\u001b[39m) \u001b[38;5;129;01mor\u001b[39;00m\n\u001b[1;32m   1760\u001b[0m     (\u001b[38;5;28mself\u001b[39m\u001b[38;5;241m.\u001b[39m_jobs[\u001b[38;5;241m0\u001b[39m]\u001b[38;5;241m.\u001b[39mget_status(\n\u001b[1;32m   1761\u001b[0m         timeout\u001b[38;5;241m=\u001b[39m\u001b[38;5;28mself\u001b[39m\u001b[38;5;241m.\u001b[39mtimeout) \u001b[38;5;241m==\u001b[39m TASK_PENDING)):\n\u001b[0;32m-> 1762\u001b[0m     \u001b[43mtime\u001b[49m\u001b[38;5;241;43m.\u001b[39;49m\u001b[43msleep\u001b[49m\u001b[43m(\u001b[49m\u001b[38;5;241;43m0.01\u001b[39;49m\u001b[43m)\u001b[49m\n\u001b[1;32m   1763\u001b[0m     \u001b[38;5;28;01mcontinue\u001b[39;00m\n\u001b[1;32m   1765\u001b[0m \u001b[38;5;66;03m# We need to be careful: the job list can be filling up as\u001b[39;00m\n\u001b[1;32m   1766\u001b[0m \u001b[38;5;66;03m# we empty it and Python list are not thread-safe by\u001b[39;00m\n\u001b[1;32m   1767\u001b[0m \u001b[38;5;66;03m# default hence the use of the lock\u001b[39;00m\n",
            "\u001b[0;31mKeyboardInterrupt\u001b[0m: "
          ]
        }
      ],
      "source": [
        "start_time = time.time()\n",
        "\n",
        "print(f\"Starting training with {total_datasets} datasets, {total_ms} bootstrap rates, {total_forests} forest configurations, and {total_folds} CV folds\")\n",
        "\n",
        "for dataset_idx, dataset_path in enumerate(dataset_paths, 1):\n",
        "    dataset_name = os.path.basename(dataset_path)\n",
        "    print(f\"\\nProcessing dataset {dataset_idx}/{total_datasets}: {dataset_name}\")\n",
        "\n",
        "    df = pd.read_csv(dataset_path)  # Jeśli w csv jest kolumna z indeksami, użyj: pd.read_csv(dataset_path, index_col=False)\n",
        "\n",
        "    X = df.iloc[:, :-1].to_numpy()\n",
        "    y = df.iloc[:, -1].to_numpy()\n",
        "\n",
        "    X = standard_scaler.fit_transform(X)  # Nie wiem po co, ale tak robili w paperze\n",
        "\n",
        "    for ms_idx, ms in enumerate(max_samples, 1):\n",
        "        print(f\"  Bootstrap rate {ms_idx}/{total_ms}: {ms}\")\n",
        "\n",
        "        for forest_idx, rfr in enumerate(forests, 1):\n",
        "            forest_start_time = time.time()\n",
        "            print(f\"    Forest model {forest_idx}/{total_forests}: {rfr[0]}\")\n",
        "            cv_mse_scores = []\n",
        "\n",
        "            for fold_idx, (train_index, test_index) in enumerate(cvsplit.split(X, y), 1):\n",
        "                if fold_idx % 10 == 0:  # Print only every 10 folds to avoid too much output\n",
        "                    print(f\"      Processing fold {fold_idx}/{total_folds}\")\n",
        "\n",
        "                X_train, X_test = X[train_index], X[test_index]\n",
        "                y_train, y_test = y[train_index], y[test_index]\n",
        "\n",
        "                X_tr, y_tr = make_X_train(X_train, y_train, ms)\n",
        "\n",
        "                rfr[1].max_samples = None if ms >= 1 and ms != 1.2 else (0.6 if ms == 1.2 else ms)\n",
        "                rfr[1].fit(X_tr, y_tr)\n",
        "\n",
        "                y_hat = rfr[1].predict(X_test)\n",
        "                mse = mean_squared_error(y_test, y_hat)\n",
        "                cv_mse_scores.append(mse)\n",
        "\n",
        "            # End time for training\n",
        "            end_time = time.perf_counter()\n",
        "\n",
        "            forest_time = time.time() - forest_start_time\n",
        "            print(f\"    Completed {rfr[0]} with bootstrap rate {ms}. Mean MSE: {np.mean(cv_mse_scores):.3f}\")\n",
        "            print(f\"    Time taken: {timedelta(seconds=int(forest_time))}\")\n",
        "\n",
        "            results['dataset'].append(dataset_path)\n",
        "            results['bootstrap_rate'].append(ms)\n",
        "            results['rf'].append(rfr[0])\n",
        "            results['cv_mse_scores'].append(cv_mse_scores)\n",
        "            results['mean_mse'].append(f'{np.mean(cv_mse_scores):.3f}')\n",
        "            results['std_mse'].append(f'{np.std(cv_mse_scores):.3f}')\n",
        "\n",
        "print(\"\\nTraining complete. Saving results...\")\n",
        "wyniki = pd.DataFrame(results)\n",
        "wyniki.to_csv('wyniki_misiu.csv', index=False)\n",
        "print(\"Results saved to 'wyniki_misiu.csv'\")\n"
      ]
    }
  ],
  "metadata": {
    "colab": {
      "provenance": []
    },
    "kernelspec": {
      "display_name": "Python 3",
      "language": "python",
      "name": "python3"
    },
    "language_info": {
      "codemirror_mode": {
        "name": "ipython",
        "version": 3
      },
      "file_extension": ".py",
      "mimetype": "text/x-python",
      "name": "python",
      "nbconvert_exporter": "python",
      "pygments_lexer": "ipython3",
      "version": "3.10.0"
    }
  },
  "nbformat": 4,
  "nbformat_minor": 0
}
